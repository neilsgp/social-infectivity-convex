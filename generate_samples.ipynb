{
 "cells": [
  {
   "cell_type": "code",
   "execution_count": 49,
   "metadata": {},
   "outputs": [],
   "source": [
    "import numpy as np\n",
    "from numpy import linalg as LA\n",
    "from numpy import matlib\n",
    "from numpy.linalg import matrix_power\n",
    "from timeit import default_timer as timer"
   ]
  },
  {
   "cell_type": "code",
   "execution_count": 50,
   "metadata": {},
   "outputs": [],
   "source": [
    "D = 1000\n",
    "U = np.zeros((D, 9))\n",
    "V = np.zeros((D, 9))"
   ]
  },
  {
   "cell_type": "code",
   "execution_count": 51,
   "metadata": {},
   "outputs": [],
   "source": [
    "for i in range(0, 9):\n",
    "    U[100*i:100*(i+2),i] = (np.random.rand(200,1)/10).reshape(200,);\n",
    "    V[100*i:100*(i+2),i] = (np.random.rand(200,1)/10).reshape(200,);"
   ]
  },
  {
   "cell_type": "code",
   "execution_count": 52,
   "metadata": {},
   "outputs": [],
   "source": [
    "A = np.matmul(U,V.transpose())\n",
    "eigenvalues, eigenvectors = LA.eig(A)\n",
    "max_eigenvalue = max(np.absolute(eigenvalues))\n",
    "A = np.dot(0.8, np.divide(A, max_eigenvalue))"
   ]
  },
  {
   "cell_type": "code",
   "execution_count": 53,
   "metadata": {},
   "outputs": [],
   "source": [
    "mu = np.random.rand(D,1)/D\n",
    "w = 1"
   ]
  },
  {
   "cell_type": "code",
   "execution_count": 54,
   "metadata": {},
   "outputs": [],
   "source": [
    "import math\n",
    "def comp_lambda(cur_t, cur_event, last_t, lambdat,w,mu,A):\n",
    "    lambda_comp = mu + (lambdat - mu)*(math.exp(-w * (cur_t - last_t)))\n",
    "    if (cur_event):\n",
    "        lambda_comp = lambda_comp + np.expand_dims(A[cur_event, :].T,axis=1)\n",
    "    return lambda_comp"
   ]
  },
  {
   "cell_type": "code",
   "execution_count": 55,
   "metadata": {},
   "outputs": [],
   "source": [
    "import random \n",
    "\n",
    "def generate_samples(w, mu, A, num_sequences, max_events_per_sequence):\n",
    "    start_time = timer()\n",
    "    hp_samples = []\n",
    "\n",
    "    for i in range(1, num_sequences+1):\n",
    "        t = 0\n",
    "        timestamp_and_event = []\n",
    "        lambdat = mu\n",
    "        lambdat_sum = np.sum(lambdat)\n",
    "        \n",
    "        while len(timestamp_and_event) < max_events_per_sequence:\n",
    "            rand_u = random.uniform(0, 1)\n",
    "            dt = np.random.exponential(1/lambdat_sum)            \n",
    "            lambda_ts = comp_lambda(t+dt, [], t, lambdat,w,mu,A);\n",
    "            lambdats_sum = np.sum(lambda_ts);\n",
    "                        \n",
    "            if (rand_u > (lambdats_sum/lambdat_sum)):\n",
    "                t = t+dt\n",
    "                lambdat = lambda_ts\n",
    "\n",
    "            else:\n",
    "                u = random.uniform(0, 1) * lambdats_sum\n",
    "                lambda_sum = 0\n",
    "                \n",
    "                d = 0\n",
    "                for d in range(1, len(mu)):\n",
    "                    lambda_sum = lambda_sum + lambda_ts[d]\n",
    "                    if(lambda_sum >= u):\n",
    "                        break\n",
    "            \n",
    "                lambdat = comp_lambda(t+dt, d, t, lambdat, w, mu, A)\n",
    "                t = t+dt\n",
    "                timestamp_and_event.append([t,d])\n",
    "\n",
    "            lambdat_sum = np.sum(lambdat)\n",
    "        \n",
    "        hp_samples.append(timestamp_and_event[0:])\n",
    "        \n",
    "        if (i%10 == 0):\n",
    "            print(\"samples = \" + str(i)+ \"/\" + str(num_sequences) + \", time = \" \n",
    "                  + \"{:.2f}\".format(timer() - start_time) + \" sec.\")\n",
    "    \n",
    "    return hp_samples"
   ]
  },
  {
   "cell_type": "code",
   "execution_count": 56,
   "metadata": {},
   "outputs": [
    {
     "name": "stdout",
     "output_type": "stream",
     "text": [
      "samples = 10/250, time = 1.09 sec.\n",
      "samples = 20/250, time = 2.22 sec.\n",
      "samples = 30/250, time = 3.38 sec.\n",
      "samples = 40/250, time = 4.58 sec.\n",
      "samples = 50/250, time = 5.73 sec.\n",
      "samples = 60/250, time = 6.92 sec.\n",
      "samples = 70/250, time = 8.09 sec.\n",
      "samples = 80/250, time = 9.20 sec.\n",
      "samples = 90/250, time = 10.37 sec.\n",
      "samples = 100/250, time = 11.52 sec.\n",
      "samples = 110/250, time = 12.77 sec.\n",
      "samples = 120/250, time = 13.88 sec.\n",
      "samples = 130/250, time = 15.01 sec.\n",
      "samples = 140/250, time = 16.40 sec.\n",
      "samples = 150/250, time = 17.80 sec.\n",
      "samples = 160/250, time = 19.07 sec.\n",
      "samples = 170/250, time = 20.43 sec.\n",
      "samples = 180/250, time = 21.95 sec.\n",
      "samples = 190/250, time = 23.42 sec.\n",
      "samples = 200/250, time = 25.25 sec.\n",
      "samples = 210/250, time = 26.85 sec.\n",
      "samples = 220/250, time = 28.57 sec.\n",
      "samples = 230/250, time = 30.27 sec.\n",
      "samples = 240/250, time = 31.60 sec.\n",
      "samples = 250/250, time = 32.96 sec.\n"
     ]
    }
   ],
   "source": [
    "num_sequences = 250\n",
    "max_events_per_sequence = 100\n",
    "hawkes_process_samples = generate_samples(w, mu, A, num_sequences, max_events_per_sequence)"
   ]
  },
  {
   "cell_type": "code",
   "execution_count": 57,
   "metadata": {},
   "outputs": [
    {
     "name": "stdout",
     "output_type": "stream",
     "text": [
      "250\n",
      "100\n",
      "[[2.229037467659969, 233], [3.436823202405772, 789], [3.8500135099582518, 745], [4.270400205575894, 816], [4.546569066007944, 821], [5.529007830133845, 885], [6.309214903433597, 862], [6.685206952097567, 831], [7.250035230814646, 99], [7.490669240483677, 813], [9.628439011861392, 307], [13.360906323367898, 334], [13.838986651412776, 488], [16.111771807414108, 265], [16.599772634259768, 291], [17.517549868295788, 877], [17.578846022163006, 126], [19.82993708080597, 150], [20.194813069359995, 420], [20.845646407162544, 419], [21.184000104744737, 457], [22.419856871890367, 503], [24.325220626870717, 906], [24.726981430133304, 213], [26.210902790351863, 300], [27.843339650273236, 495], [28.947362082641995, 778], [29.794697783582933, 17], [30.17467229064059, 772], [31.680920747604763, 870], [32.224418984500495, 7], [32.71754990985976, 31], [33.697995504215115, 174], [33.706477050593115, 129], [34.492065144728045, 209], [35.86060059641788, 339], [40.97168958936185, 165], [41.69076824312659, 671], [43.984976564623075, 152], [44.247588036644274, 188], [46.11822692839746, 40], [47.63250120407769, 955], [50.81500987557374, 282], [50.85299264810867, 238], [52.912868084802916, 310], [53.296449906646366, 820], [53.31961439530959, 394], [53.58027532307622, 100], [53.80485290299187, 242], [55.844483333652455, 356], [56.8882165871283, 383], [58.86005621701732, 361], [59.263723426212, 978], [64.6245355367586, 676], [65.16650746959641, 939], [66.1317249109376, 663], [66.19373602240552, 612], [66.2703382977244, 682], [66.37976417918834, 624], [66.38213858618407, 569], [66.71847937187725, 635], [66.7762961260091, 615], [67.17691160318812, 634], [67.40694350575811, 100], [67.75759444061362, 621], [68.4731804352663, 187], [69.06516637364514, 549], [69.182473913159, 771], [69.44503220390881, 617], [69.89074056440161, 745], [70.67953580836212, 770], [71.00668823196922, 810], [75.24373644082587, 788], [76.19824732437176, 220], [76.22947406122383, 464], [76.68416429638678, 436], [77.800710750063, 312], [78.12666908833674, 364], [78.3164213603391, 656], [78.33652237902176, 317], [78.44744047544663, 646], [79.57130056936722, 270], [79.85188674057741, 256], [80.1868249949165, 759], [80.19408238298278, 264], [80.30796263705746, 243], [80.53525079420626, 180], [80.59422598305436, 780], [80.82308430432533, 999], [80.9795411326307, 958], [80.99818658507456, 982], [81.08417526143776, 887], [81.6684532940165, 375], [81.74270353756155, 139], [81.75802773068897, 399], [82.05685381430419, 36], [82.10794304734499, 349], [82.30438170223329, 273], [83.52467485436802, 419], [83.6022987020381, 382]]\n"
     ]
    }
   ],
   "source": [
    "'''\n",
    "timestamp = 1x100 double\n",
    "event = 1x100 event            \n",
    "'''\n",
    "print (len(hawkes_process_samples))\n",
    "print (len(hawkes_process_samples[0]))\n",
    "print (hawkes_process_samples[0])"
   ]
  },
  {
   "cell_type": "code",
   "execution_count": 116,
   "metadata": {},
   "outputs": [],
   "source": [
    "def kernel_g(dt, w):\n",
    "    g = np.multiply(w, np.exp(np.multiply(-w, dt)))\n",
    "    g[g > 1] = 0\n",
    "    return g"
   ]
  },
  {
   "cell_type": "code",
   "execution_count": 117,
   "metadata": {},
   "outputs": [],
   "source": [
    "def kernel_int_g(dt, w):\n",
    "    G = np.subtract(1, np.exp(np.multiply(-w, dt)))\n",
    "    G[G<0] = 0\n",
    "    return G"
   ]
  },
  {
   "cell_type": "code",
   "execution_count": 98,
   "metadata": {},
   "outputs": [],
   "source": [
    "def real_err(A, A_m):\n",
    "    err_1 = np.divide(abs(A - A_m), A)\n",
    "    err_2 = abs(A - A_m) \n",
    "    \n",
    "    err_1 = np.nan_to_num(err_1)\n",
    "    err_1 = convert_inf(err_1, np.isinf(err_1))\n",
    "    \n",
    "    err = np.multiply(err_1, double((A!=0)*1)) + np.multiply(err_2, double((A==0)*1))\n",
    "    err = np.sum(err.flatten())/double(A.size)\n",
    "    \n",
    "    return err"
   ]
  },
  {
   "cell_type": "code",
   "execution_count": 99,
   "metadata": {},
   "outputs": [],
   "source": [
    "def convert_inf(A, inf_A):\n",
    "    for i in range(0, len(inf_A)):\n",
    "        for j in range(0, len(inf_A[0])):\n",
    "            if(inf_A[i][j]):\n",
    "                A[i][j] = 0\n",
    "    return A"
   ]
  },
  {
   "cell_type": "code",
   "execution_count": 100,
   "metadata": {},
   "outputs": [],
   "source": [
    "def optimize_mu(hp_samples, D, w, rho, num_iter_1, num_iter_2, thold, real_A):\n",
    "    A_m = np.random.rand(D,D);\n",
    "    eigenvalues_m, eigenvectors_m = LA.eig(A_m)\n",
    "    max_eigenvalue_m = max(np.absolute(eigenvalues_m))\n",
    "    A_m = np.dot(0.8, np.divide(A_m, max_eigenvalue_m))\n",
    "    \n",
    "    # reshape may required in mu_m\n",
    "    mu_m = np.divide(np.random.rand(D, 1), D)\n",
    "    UL = np.zeros((D, D))\n",
    "    ZL = np.zeros((D, D))\n",
    "    US = np.zeros((D, D))\n",
    "    ZS = np.zeros((D, D))\n",
    "    \n",
    "    for i in range(0, num_iter_1 + 1):\n",
    "        rho = rho * 1.1\n",
    "        \n",
    "        for j in range(0, num_iter_2 + 1):\n",
    "            print (\"No. \" + str(i + 1) + \" outter while iteration | No. \" \n",
    "                   + str(j + 1) +  \" inner while iteration\")\n",
    "            A_m, mu_m, RelErr = update_mu(A_m, mu_m, hp_samples, UL, ZL, US, ZS, w, rho, D, real_A)\n",
    "            Iteration_Err[j + 1, i + 1] = RelErr\n",
    "        \n",
    "        s, v, d = np.linalg.svd(np.add(A_m, US))\n",
    "        v = np.subtract(v, thold / rho)\n",
    "        v[v < 0] = 0\n",
    "        ZL = s * v * d.T\n",
    "        UL = UL + np.subtract(A_m, ZL) #changed A_m-ZL to np.subtract\n",
    "        \n",
    "        #idk looks good to me lol\n",
    "        tmp = np.subtract(abs(np.add(A_m, US)), thold / rho) # may have error \n",
    "        \n",
    "        tmp[tmp < 0] = 0\n",
    "        ZS = (np.multiply(np.sign(np.add(A_m, US)), tmp))\n",
    "        US = np.add(US, np.subtract(A_M, ZS))\n",
    "        \n",
    "    return A_m, mu_m, Iteration_Err"
   ]
  },
  {
   "cell_type": "code",
   "execution_count": 128,
   "metadata": {},
   "outputs": [],
   "source": [
    "def update_mu (A_m, mu_m, hp_samples, UL, ZL, US, ZS, w, rho, D, real_A):\n",
    "    num_samples = len(hp_samples)\n",
    "    mu_numerator = np.zeros((D, 1))\n",
    "    \n",
    "    C = np.zeros((len(A_m), len(A_m[0])))\n",
    "    A_Step = np.add(np.zeros((len(A_m), len(A_m[0]))), 2 * rho)\n",
    "    B = np.add(np.add(np.zeros((len(A_m), len(A_m[0]))), np.multiply(rho, np.subtract(UL, ZL))), \n",
    "               np.multiply(rho, np.subtract(US, ZS)))\n",
    "    \n",
    "    for s in range(0, num_samples):\n",
    "        cur_hp_samples = hp_samples[s]\n",
    "        timestamp = [i[0] for i in cur_hp_samples]\n",
    "        event = [i[1] for i in cur_hp_samples]\n",
    "        tc = timestamp[len(timestamp) - 1]\n",
    "        nc = len(event)\n",
    "        dt = np.subtract(tc, timestamp)\n",
    "        \n",
    "        for i in range(0, nc):\n",
    "            ui = event[i]\n",
    "            ti = timestamp[i]\n",
    "            int_g = kernel_int_g(dt, w)\n",
    "            \n",
    "            # Todo: modify matrix B (Incomplete)\n",
    "            # B(ui,:) = B(ui,:) + double(A_m(ui,:)>0).*repmat(int_g(i),[1,D]);            \n",
    "            B[ui,:] = B[ui,:] + np.multiply((A_m[ui,:]>0).astype(float), np.matlib.repmat(int_g[i], 1, D))\n",
    "            \n",
    "            pii = []\n",
    "            pij = []\n",
    "            ag_arr = []\n",
    "            \n",
    "            if (i > 0):\n",
    "                tj = timestamp[0 : i]\n",
    "                uj = event[0 : i]\n",
    "                kn_g = kernel_g(np.subtract(ti, tj), w)\n",
    "                ag_arr = np.multiply(A_m[uj, ui], kn_g.T)\n",
    "                \n",
    "            pii = np.divide(mu_m[ui], mu_m[ui] + sum(ag_arr))\n",
    "            \n",
    "            if(i > 0):\n",
    "                pij = np.divide(ag_arr, mu_m[ui] + sum(ag_arr))\n",
    "                if (len(pij) != 0 and sum(pij) > 0):\n",
    "                    for j in range(0, len(uj)):\n",
    "                        uuj = uj[j]\n",
    "                        C[uuj, ui] = C[uuj, ui] - pij[j, :] ## (Incomplete) Question: what we have at the end ??? value or vector ??\n",
    "            \n",
    "            mu_numerator[ui] = np.add(mu_numerator[ui], pii)\n",
    "            \n",
    "    mu = np.divide(mu_numerator, np.add(np.zeros((D, 1)), tc))\n",
    "    sqrt_eq = math.sqrt(np.subtract(matrix_power(B, 2), np.multiply(4, np.multiply(A_step, C))))\n",
    "    A  = np.divide(np.add(np.multiply(-1, B), sqrt_eq), np.multiply(2, A_Step))\n",
    "    RelErr = real_err(real_A, A)\n",
    "    \n",
    "    print (\"non-zero in mu = \" + np.count_nonzero(mu))\n",
    "    print (\"non-zero in C = \"  + np.count_nonzero(C))\n",
    "    print (\"non-zero in B = \"  + np.count_nonzero(B) + \", non-zero in sqrt = \" + np.count_nonzero(sqrt_eq))\n",
    "    print (\"real error = \" + \"{:.4f}\".format(RelErr) + \", correlation = \" + \"{:.4f}\".format()  # (Incomplete)\n",
    "           + \"#non-zero in A = \" + np.count_nonzero(A))\n",
    "            \n",
    "    A = np.nan_to_num(A)\n",
    "    A = convert_inf(A, np.isinf(A))\n",
    "    \n",
    "    return A, mu, RelErr"
   ]
  },
  {
   "cell_type": "code",
   "execution_count": 129,
   "metadata": {},
   "outputs": [],
   "source": [
    "#start optimization\n",
    "num_iter_1 = 2;    # Number of Iteration of the First while loop (while k = 1,2 ...)\n",
    "num_iter_2 = 7;    # Number of Iteration of the Second while loop (while not converge)\n",
    "\n",
    "rho = 0.09;\n",
    "thold = 1;         # thershold value"
   ]
  },
  {
   "cell_type": "code",
   "execution_count": 130,
   "metadata": {},
   "outputs": [
    {
     "name": "stdout",
     "output_type": "stream",
     "text": [
      "No. 1 outter while iteration | No. 1 inner while iteration\n"
     ]
    },
    {
     "ename": "IndexError",
     "evalue": "too many indices for array",
     "output_type": "error",
     "traceback": [
      "\u001b[0;31m---------------------------------------------------------------------------\u001b[0m",
      "\u001b[0;31mIndexError\u001b[0m                                Traceback (most recent call last)",
      "\u001b[0;32m<ipython-input-130-c79e4d113241>\u001b[0m in \u001b[0;36m<module>\u001b[0;34m()\u001b[0m\n\u001b[0;32m----> 1\u001b[0;31m \u001b[0;34m[\u001b[0m\u001b[0mx\u001b[0m\u001b[0;34m,\u001b[0m\u001b[0my\u001b[0m\u001b[0;34m,\u001b[0m\u001b[0mIteration_Err\u001b[0m\u001b[0;34m]\u001b[0m \u001b[0;34m=\u001b[0m \u001b[0moptimize_mu\u001b[0m\u001b[0;34m(\u001b[0m\u001b[0mhawkes_process_samples\u001b[0m\u001b[0;34m,\u001b[0m\u001b[0mD\u001b[0m\u001b[0;34m,\u001b[0m\u001b[0mw\u001b[0m\u001b[0;34m,\u001b[0m\u001b[0mrho\u001b[0m\u001b[0;34m,\u001b[0m\u001b[0mnum_iter_1\u001b[0m\u001b[0;34m,\u001b[0m\u001b[0mnum_iter_2\u001b[0m\u001b[0;34m,\u001b[0m\u001b[0mthold\u001b[0m\u001b[0;34m,\u001b[0m\u001b[0mA\u001b[0m\u001b[0;34m)\u001b[0m\u001b[0;34m;\u001b[0m\u001b[0;34m\u001b[0m\u001b[0m\n\u001b[0m",
      "\u001b[0;32m<ipython-input-100-f1ed946a6bc8>\u001b[0m in \u001b[0;36moptimize_mu\u001b[0;34m(hp_samples, D, w, rho, num_iter_1, num_iter_2, thold, real_A)\u001b[0m\n\u001b[1;32m     18\u001b[0m             print (\"No. \" + str(i + 1) + \" outter while iteration | No. \" \n\u001b[1;32m     19\u001b[0m                    + str(j + 1) +  \" inner while iteration\")\n\u001b[0;32m---> 20\u001b[0;31m             \u001b[0mA_m\u001b[0m\u001b[0;34m,\u001b[0m \u001b[0mmu_m\u001b[0m\u001b[0;34m,\u001b[0m \u001b[0mRelErr\u001b[0m \u001b[0;34m=\u001b[0m \u001b[0mupdate_mu\u001b[0m\u001b[0;34m(\u001b[0m\u001b[0mA_m\u001b[0m\u001b[0;34m,\u001b[0m \u001b[0mmu_m\u001b[0m\u001b[0;34m,\u001b[0m \u001b[0mhp_samples\u001b[0m\u001b[0;34m,\u001b[0m \u001b[0mUL\u001b[0m\u001b[0;34m,\u001b[0m \u001b[0mZL\u001b[0m\u001b[0;34m,\u001b[0m \u001b[0mUS\u001b[0m\u001b[0;34m,\u001b[0m \u001b[0mZS\u001b[0m\u001b[0;34m,\u001b[0m \u001b[0mw\u001b[0m\u001b[0;34m,\u001b[0m \u001b[0mrho\u001b[0m\u001b[0;34m,\u001b[0m \u001b[0mD\u001b[0m\u001b[0;34m,\u001b[0m \u001b[0mreal_A\u001b[0m\u001b[0;34m)\u001b[0m\u001b[0;34m\u001b[0m\u001b[0m\n\u001b[0m\u001b[1;32m     21\u001b[0m             \u001b[0mIteration_Err\u001b[0m\u001b[0;34m[\u001b[0m\u001b[0mj\u001b[0m \u001b[0;34m+\u001b[0m \u001b[0;36m1\u001b[0m\u001b[0;34m,\u001b[0m \u001b[0mi\u001b[0m \u001b[0;34m+\u001b[0m \u001b[0;36m1\u001b[0m\u001b[0;34m]\u001b[0m \u001b[0;34m=\u001b[0m \u001b[0mRelErr\u001b[0m\u001b[0;34m\u001b[0m\u001b[0m\n\u001b[1;32m     22\u001b[0m \u001b[0;34m\u001b[0m\u001b[0m\n",
      "\u001b[0;32m<ipython-input-128-f6822793ed4a>\u001b[0m in \u001b[0;36mupdate_mu\u001b[0;34m(A_m, mu_m, hp_samples, UL, ZL, US, ZS, w, rho, D, real_A)\u001b[0m\n\u001b[1;32m     42\u001b[0m                     \u001b[0;32mfor\u001b[0m \u001b[0mj\u001b[0m \u001b[0;32min\u001b[0m \u001b[0mrange\u001b[0m\u001b[0;34m(\u001b[0m\u001b[0;36m0\u001b[0m\u001b[0;34m,\u001b[0m \u001b[0mlen\u001b[0m\u001b[0;34m(\u001b[0m\u001b[0muj\u001b[0m\u001b[0;34m)\u001b[0m\u001b[0;34m)\u001b[0m\u001b[0;34m:\u001b[0m\u001b[0;34m\u001b[0m\u001b[0m\n\u001b[1;32m     43\u001b[0m                         \u001b[0muuj\u001b[0m \u001b[0;34m=\u001b[0m \u001b[0muj\u001b[0m\u001b[0;34m[\u001b[0m\u001b[0mj\u001b[0m\u001b[0;34m]\u001b[0m\u001b[0;34m\u001b[0m\u001b[0m\n\u001b[0;32m---> 44\u001b[0;31m                         \u001b[0mC\u001b[0m\u001b[0;34m[\u001b[0m\u001b[0muuj\u001b[0m\u001b[0;34m,\u001b[0m \u001b[0mui\u001b[0m\u001b[0;34m]\u001b[0m \u001b[0;34m=\u001b[0m \u001b[0mC\u001b[0m\u001b[0;34m[\u001b[0m\u001b[0muuj\u001b[0m\u001b[0;34m,\u001b[0m \u001b[0mui\u001b[0m\u001b[0;34m]\u001b[0m \u001b[0;34m-\u001b[0m \u001b[0mpij\u001b[0m\u001b[0;34m[\u001b[0m\u001b[0mj\u001b[0m\u001b[0;34m,\u001b[0m \u001b[0;34m:\u001b[0m\u001b[0;34m]\u001b[0m \u001b[0;31m## (Incomplete) Question: what we have at the end ??? value or vector ??\u001b[0m\u001b[0;34m\u001b[0m\u001b[0m\n\u001b[0m\u001b[1;32m     45\u001b[0m \u001b[0;34m\u001b[0m\u001b[0m\n\u001b[1;32m     46\u001b[0m             \u001b[0mmu_numerator\u001b[0m\u001b[0;34m[\u001b[0m\u001b[0mui\u001b[0m\u001b[0;34m]\u001b[0m \u001b[0;34m=\u001b[0m \u001b[0mnp\u001b[0m\u001b[0;34m.\u001b[0m\u001b[0madd\u001b[0m\u001b[0;34m(\u001b[0m\u001b[0mmu_numerator\u001b[0m\u001b[0;34m[\u001b[0m\u001b[0mui\u001b[0m\u001b[0;34m]\u001b[0m\u001b[0;34m,\u001b[0m \u001b[0mpii\u001b[0m\u001b[0;34m)\u001b[0m\u001b[0;34m\u001b[0m\u001b[0m\n",
      "\u001b[0;31mIndexError\u001b[0m: too many indices for array"
     ]
    }
   ],
   "source": [
    "[x,y,Iteration_Err] = optimize_mu(hawkes_process_samples,D,w,rho,num_iter_1,num_iter_2,thold,A);"
   ]
  },
  {
   "cell_type": "code",
   "execution_count": null,
   "metadata": {},
   "outputs": [],
   "source": []
  }
 ],
 "metadata": {
  "kernelspec": {
   "display_name": "Python 2",
   "language": "python",
   "name": "python2"
  },
  "language_info": {
   "codemirror_mode": {
    "name": "ipython",
    "version": 2
   },
   "file_extension": ".py",
   "mimetype": "text/x-python",
   "name": "python",
   "nbconvert_exporter": "python",
   "pygments_lexer": "ipython2",
   "version": "2.7.15"
  }
 },
 "nbformat": 4,
 "nbformat_minor": 2
}
