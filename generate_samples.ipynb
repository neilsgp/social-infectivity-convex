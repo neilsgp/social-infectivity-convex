{
 "cells": [
  {
   "cell_type": "code",
   "execution_count": 21,
   "metadata": {},
   "outputs": [],
   "source": [
    "import numpy as np\n",
    "from numpy import linalg as LA\n",
    "from numpy import matlib\n",
    "from numpy.linalg import matrix_power\n",
    "from timeit import default_timer as timer"
   ]
  },
  {
   "cell_type": "code",
   "execution_count": 22,
   "metadata": {},
   "outputs": [],
   "source": [
    "D = 1000\n",
    "U = np.zeros((D, 9))\n",
    "V = np.zeros((D, 9))"
   ]
  },
  {
   "cell_type": "code",
   "execution_count": 23,
   "metadata": {},
   "outputs": [],
   "source": [
    "for i in range(0, 9):\n",
    "    U[100*i:100*(i+2),i] = (np.random.rand(200,1)/10).reshape(200,);\n",
    "    V[100*i:100*(i+2),i] = (np.random.rand(200,1)/10).reshape(200,);"
   ]
  },
  {
   "cell_type": "code",
   "execution_count": 24,
   "metadata": {},
   "outputs": [],
   "source": [
    "A = np.matmul(U,V.transpose())\n",
    "eigenvalues, eigenvectors = LA.eig(A)\n",
    "max_eigenvalue = max(np.absolute(eigenvalues))\n",
    "A = np.dot(0.8, np.divide(A, max_eigenvalue))"
   ]
  },
  {
   "cell_type": "code",
   "execution_count": 25,
   "metadata": {},
   "outputs": [],
   "source": [
    "mu = np.random.rand(D,1)/D\n",
    "w = 1"
   ]
  },
  {
   "cell_type": "code",
   "execution_count": 26,
   "metadata": {},
   "outputs": [],
   "source": [
    "import math\n",
    "def comp_lambda(cur_t, cur_event, last_t, lambdat,w,mu,A):\n",
    "    lambda_comp = mu + (lambdat - mu)*(math.exp(-w * (cur_t - last_t)))\n",
    "    if (cur_event):\n",
    "        lambda_comp = lambda_comp + np.expand_dims(A[cur_event, :].T,axis=1)\n",
    "    return lambda_comp"
   ]
  },
  {
   "cell_type": "code",
   "execution_count": 27,
   "metadata": {},
   "outputs": [],
   "source": [
    "import random \n",
    "\n",
    "def generate_samples(w, mu, A, num_sequences, max_events_per_sequence):\n",
    "    start_time = timer()\n",
    "    hp_samples = []\n",
    "\n",
    "    for i in range(1, num_sequences+1):\n",
    "        t = 0\n",
    "        timestamp_and_event = []\n",
    "        lambdat = mu\n",
    "        lambdat_sum = np.sum(lambdat)\n",
    "        \n",
    "        while len(timestamp_and_event) < max_events_per_sequence:\n",
    "            rand_u = random.uniform(0, 1)\n",
    "            dt = np.random.exponential(1/lambdat_sum)            \n",
    "            lambda_ts = comp_lambda(t+dt, [], t, lambdat,w,mu,A);\n",
    "            lambdats_sum = np.sum(lambda_ts);\n",
    "                        \n",
    "            if (rand_u > (lambdats_sum/lambdat_sum)):\n",
    "                t = t+dt\n",
    "                lambdat = lambda_ts\n",
    "\n",
    "            else:\n",
    "                u = random.uniform(0, 1) * lambdats_sum\n",
    "                lambda_sum = 0\n",
    "                \n",
    "                d = 0\n",
    "                for d in range(1, len(mu)):\n",
    "                    lambda_sum = lambda_sum + lambda_ts[d]\n",
    "                    if(lambda_sum >= u):\n",
    "                        break\n",
    "            \n",
    "                lambdat = comp_lambda(t+dt, d, t, lambdat, w, mu, A)\n",
    "                t = t+dt\n",
    "                timestamp_and_event.append([t,d])\n",
    "\n",
    "            lambdat_sum = np.sum(lambdat)\n",
    "        \n",
    "        hp_samples.append(timestamp_and_event[0:])\n",
    "        \n",
    "        if (i%10 == 0):\n",
    "            print(\"samples = \" + str(i)+ \"/\" + str(num_sequences) + \", time = \" \n",
    "                  + \"{:.2f}\".format(timer() - start_time) + \" sec.\")\n",
    "    \n",
    "    return hp_samples"
   ]
  },
  {
   "cell_type": "code",
   "execution_count": 28,
   "metadata": {},
   "outputs": [
    {
     "name": "stdout",
     "output_type": "stream",
     "text": [
      "samples = 10/250, time = 0.90 sec.\n",
      "samples = 20/250, time = 1.78 sec.\n",
      "samples = 30/250, time = 2.65 sec.\n",
      "samples = 40/250, time = 4.11 sec.\n",
      "samples = 50/250, time = 5.06 sec.\n",
      "samples = 60/250, time = 6.01 sec.\n",
      "samples = 70/250, time = 6.99 sec.\n",
      "samples = 80/250, time = 7.92 sec.\n",
      "samples = 90/250, time = 9.06 sec.\n",
      "samples = 100/250, time = 9.96 sec.\n",
      "samples = 110/250, time = 10.87 sec.\n",
      "samples = 120/250, time = 11.77 sec.\n",
      "samples = 130/250, time = 12.69 sec.\n",
      "samples = 140/250, time = 13.50 sec.\n",
      "samples = 150/250, time = 14.43 sec.\n",
      "samples = 160/250, time = 15.21 sec.\n",
      "samples = 170/250, time = 16.06 sec.\n",
      "samples = 180/250, time = 16.94 sec.\n",
      "samples = 190/250, time = 17.89 sec.\n",
      "samples = 200/250, time = 18.77 sec.\n",
      "samples = 210/250, time = 19.64 sec.\n",
      "samples = 220/250, time = 20.49 sec.\n",
      "samples = 230/250, time = 21.35 sec.\n",
      "samples = 240/250, time = 22.35 sec.\n",
      "samples = 250/250, time = 23.20 sec.\n"
     ]
    }
   ],
   "source": [
    "num_sequences = 250\n",
    "max_events_per_sequence = 100\n",
    "hawkes_process_samples = generate_samples(w, mu, A, num_sequences, max_events_per_sequence)"
   ]
  },
  {
   "cell_type": "code",
   "execution_count": 29,
   "metadata": {},
   "outputs": [
    {
     "name": "stdout",
     "output_type": "stream",
     "text": [
      "250\n",
      "100\n",
      "[[1.2917243665561897, 386], [3.55047049165047, 892], [3.6246631778461387, 729], [3.9332620237293368, 717], [3.9342697727426645, 869], [4.015494024934629, 699], [4.163497420014593, 754], [4.666554063512556, 866], [4.707987877460693, 731], [4.874313617908396, 806], [6.122493366267486, 839], [6.455257903224882, 871], [7.350884155009851, 77], [8.510632677229308, 121], [9.011560478442544, 819], [9.27480451265427, 217], [9.375526413119767, 235], [9.439732556262657, 938], [9.656890349908377, 923], [10.928031740070274, 790], [11.904350777157266, 98], [12.49808834042902, 435], [13.081871703116782, 416], [13.460101676054668, 454], [13.682775263001673, 378], [14.830971600342224, 371], [14.8502235953997, 489], [15.122438241901673, 453], [15.254721705701336, 431], [16.567363353563614, 901], [17.224146905524883, 897], [17.252415960312735, 261], [17.257835911849863, 829], [17.466266147100004, 802], [18.001221701507266, 805], [18.410571052457488, 820], [19.612926651643786, 778], [19.684544442330807, 874], [19.95764922518093, 818], [19.991192103018275, 782], [20.066533249659862, 245], [20.201145258688104, 731], [20.267159304210512, 757], [20.307899934320318, 776], [20.360581513187903, 733], [20.394691766676843, 195], [20.427624254298475, 209], [20.480707144790713, 758], [20.71203379242657, 740], [20.713898624129452, 735], [20.81741157840664, 801], [20.857527848975582, 816], [21.447757926547762, 933], [21.714838742394736, 782], [21.72459394201322, 629], [21.781746927944237, 180], [21.912990274403764, 780], [21.95727406415754, 739], [21.987889353144432, 809], [22.040384062891814, 773], [22.67228152166682, 724], [22.780726994489626, 703], [22.822935760680956, 778], [22.858415331176502, 620], [23.474735362499747, 33], [23.509490046441456, 826], [23.548474405506965, 864], [23.549025949957763, 763], [23.562181214123743, 683], [23.671586948900433, 660], [23.743124261434613, 785], [23.801673539168217, 171], [23.910143912613393, 760], [23.93959669119292, 646], [23.986667866156658, 927], [24.011635538074575, 705], [24.012520776551042, 843], [24.10898840664312, 437], [24.55976410763325, 724], [24.5926252453858, 781], [24.63265041113141, 663], [24.789208770157323, 986], [24.8570115307146, 735], [25.02427427471921, 163], [25.068359695861847, 755], [25.084459949958877, 647], [25.266277531755875, 909], [25.542148688023666, 809], [26.845892956506386, 767], [27.422099772574054, 829], [27.62399543723101, 891], [27.826066960920286, 888], [27.849590877407145, 744], [28.053548100247127, 922], [29.148614685928276, 650], [29.41379778606724, 972], [31.78265151861899, 640], [33.8430569898449, 652], [34.19095432096142, 508], [34.51302700228586, 703]]\n"
     ]
    }
   ],
   "source": [
    "'''\n",
    "timestamp = 1x100 double\n",
    "event = 1x100 event            \n",
    "'''\n",
    "print (len(hawkes_process_samples))\n",
    "print (len(hawkes_process_samples[0]))\n",
    "print (hawkes_process_samples[0])"
   ]
  },
  {
   "cell_type": "code",
   "execution_count": 62,
   "metadata": {},
   "outputs": [],
   "source": [
    "def kernel_g(dt, w):\n",
    "    g = np.multiply(w, np.exp(np.multiply(-w, dt)))\n",
    "    g[g > 1] = 0\n",
    "    return g"
   ]
  },
  {
   "cell_type": "code",
   "execution_count": 63,
   "metadata": {},
   "outputs": [],
   "source": [
    "def kernel_int_g(dt, w):\n",
    "    G = np.subtract(1, np.exp(np.multiply(-w, dt)))\n",
    "    G[G < 0] = 0\n",
    "    return G"
   ]
  },
  {
   "cell_type": "code",
   "execution_count": 109,
   "metadata": {},
   "outputs": [],
   "source": [
    "def real_err(A, A_m):\n",
    "    err_1 = np.divide(abs(A - A_m), A)\n",
    "    err_2 = abs(A - A_m) \n",
    "    \n",
    "    err_1 = np.nan_to_num(err_1)\n",
    "    err_1 = convert_inf(err_1, np.isinf(err_1))\n",
    "    \n",
    "    err = np.multiply(err_1, ((A!=0)*1).astype(float)) + np.multiply(err_2, ((A==0)*1).astype(float))\n",
    "    err = np.sum(err.flatten())/float(A.size)\n",
    "    \n",
    "    return err"
   ]
  },
  {
   "cell_type": "code",
   "execution_count": 33,
   "metadata": {},
   "outputs": [],
   "source": [
    "def convert_inf(A, inf_A):\n",
    "    for i in range(0, len(inf_A)):\n",
    "        for j in range(0, len(inf_A[0])):\n",
    "            if(inf_A[i][j]):\n",
    "                A[i][j] = 0\n",
    "    return A"
   ]
  },
  {
   "cell_type": "code",
   "execution_count": 140,
   "metadata": {},
   "outputs": [],
   "source": [
    "def optimize_mu(hp_samples, D, w, rho, num_iter_1, num_iter_2, thold, real_A):\n",
    "#     print (num_iter_1)\n",
    "#     print (num_iter_2)\n",
    "    Iteration_Err = np.zeros(((num_iter_2 + 2), (num_iter_1 + 2)))\n",
    "    A_m = np.random.rand(D,D);\n",
    "    eigenvalues_m, eigenvectors_m = LA.eig(A_m)\n",
    "    max_eigenvalue_m = max(np.absolute(eigenvalues_m))\n",
    "#     print (np.divide(A_m, max_eigenvalue_m))\n",
    "    A_m = np.dot(0.8, np.divide(A_m, max_eigenvalue_m))\n",
    "    \n",
    "    # reshape may required in mu_m\n",
    "#     print (D)\n",
    "    mu_m = np.divide(np.random.rand(D, 1), D)\n",
    "    UL = np.zeros((D, D))\n",
    "    ZL = np.zeros((D, D))\n",
    "    US = np.zeros((D, D))\n",
    "    ZS = np.zeros((D, D))\n",
    "    \n",
    "    for i in range(0, num_iter_1 + 1):\n",
    "        rho = rho * 1.1\n",
    "        \n",
    "        for j in range(0, num_iter_2 + 1):\n",
    "            print (\"No. \" + str(i + 1) + \" outter while iteration | No. \" \n",
    "                   + str(j + 1) +  \" inner while iteration\")\n",
    "            A_m, mu_m, RelErr = update_mu(A_m, mu_m, hp_samples, UL, ZL, US, ZS, w, rho, D, real_A)\n",
    "            Iteration_Err[j + 1, i + 1] = RelErr\n",
    "        \n",
    "        s, v, d = np.linalg.svd(np.add(A_m, US))\n",
    "        v = np.subtract(v, thold / rho)\n",
    "        v[v < 0] = 0\n",
    "        ZL = s * v * d.T\n",
    "        UL = UL + np.subtract(A_m, ZL) #changed A_m-ZL to np.subtract\n",
    "        \n",
    "        #idk looks good to me lol\n",
    "        tmp = np.subtract(abs(np.add(A_m, US)), thold / rho) # may have error \n",
    "        \n",
    "        tmp[tmp < 0] = 0\n",
    "        ZS = (np.multiply(np.sign(np.add(A_m, US)), tmp))\n",
    "        US = np.add(US, np.subtract(A_m, ZS))\n",
    "        \n",
    "    return A_m, mu_m, Iteration_Err"
   ]
  },
  {
   "cell_type": "code",
   "execution_count": 171,
   "metadata": {},
   "outputs": [],
   "source": [
    "def update_mu (A_m, mu_m, hp_samples, UL, ZL, US, ZS, w, rho, D, real_A):\n",
    "    num_samples = len(hp_samples)\n",
    "    mu_numerator = np.zeros((D, 1))\n",
    "    \n",
    "    C = np.zeros((len(A_m), len(A_m[0])))\n",
    "#     print (rho)\n",
    "    A_Step = np.add(np.zeros((len(A_m), len(A_m[0]))), 2 * rho)\n",
    "#     print (A_Step)\n",
    "    B = np.add(np.add(np.zeros((len(A_m), len(A_m[0]))), np.multiply(rho, np.subtract(UL, ZL))), \n",
    "               np.multiply(rho, np.subtract(US, ZS)))\n",
    "    \n",
    "    for s in range(0, num_samples):\n",
    "        cur_hp_samples = hp_samples[s]\n",
    "        timestamp = [i[0] for i in cur_hp_samples]\n",
    "        event = [i[1] for i in cur_hp_samples]\n",
    "        tc = timestamp[len(timestamp) - 1]\n",
    "        nc = len(event)\n",
    "        dt = np.subtract(tc, timestamp)\n",
    "        \n",
    "        for i in range(0, nc):\n",
    "            ui = event[i]\n",
    "            ti = timestamp[i]\n",
    "            int_g = kernel_int_g(dt, w)\n",
    "            \n",
    "            # Todo: modify matrix B (Incomplete)\n",
    "            # B(ui,:) = B(ui,:) + double(A_m(ui,:)>0).*repmat(int_g(i),[1,D]);\n",
    "            B[ui,:] = B[ui,:] + np.multiply((A_m[ui,:]>0).astype(float), np.matlib.repmat(int_g[i], 1, D))\n",
    "            \n",
    "#             print (B)\n",
    "            \n",
    "            pii = []\n",
    "            pij = []\n",
    "            ag_arr = []\n",
    "            \n",
    "            if (i > 0):\n",
    "                tj = timestamp[0 : i]\n",
    "                uj = event[0 : i]\n",
    "                kn_g = kernel_g(np.subtract(ti, tj), w)\n",
    "                ag_arr = np.multiply(A_m[uj, ui], kn_g.T)\n",
    "            \n",
    "#             print (mu_m[ui] + sum(ag_arr))\n",
    "            pii = np.divide(mu_m[ui], mu_m[ui] + sum(ag_arr))\n",
    "            \n",
    "            if(i > 0):\n",
    "                pij = np.divide(ag_arr, mu_m[ui] + sum(ag_arr))\n",
    "                if (len(pij) != 0 and sum(pij) > 0):\n",
    "                    for j in range(0, len(uj)):\n",
    "                        uuj = uj[j]\n",
    "                        C[uuj, ui] = C[uuj, ui] - pij[j]\n",
    "                        \n",
    "            mu_numerator[ui] = np.add(mu_numerator[ui], pii)\n",
    "            \n",
    "#     print (np.add(np.zeros((D, 1)), tc))\n",
    "    mu = np.divide(mu_numerator, np.add(np.zeros((D, 1)), tc))\n",
    "#     print (np.multiply(4, np.multiply(A_Step, C)))\n",
    "    sqrt_eq = np.sqrt(np.subtract(pow_matrix(B), np.multiply(4 * A_Step, C)))\n",
    "#     print (np.multiply(2, A_Step))\n",
    "    A  = np.divide(np.add(-1 * B, sqrt_eq), 2 * A_Step)\n",
    "#     print (A)\n",
    "    RelErr = real_err(real_A, A)\n",
    "    \n",
    "    print (\"non-zero in mu = \" + str(np.count_nonzero(mu)))\n",
    "    print (\"non-zero in C = \"  + str(np.count_nonzero(C)))\n",
    "    print (\"non-zero in B = \"  + str(np.count_nonzero(B)) + \", non-zero in sqrt = \" + str(np.count_nonzero(sqrt_eq)))\n",
    "    print (\"real error = \" + \"{:.4f}\".format(RelErr) \n",
    "#            + \", correlation = \" + \"{:.4f}\".format()  # (Incomplete)\n",
    "           + \"#non-zero in A = \" + str(np.count_nonzero(A)))\n",
    "            \n",
    "    A = np.nan_to_num(A)\n",
    "    A = convert_inf(A, np.isinf(A))\n",
    "    \n",
    "    return A, mu, RelErr"
   ]
  },
  {
   "cell_type": "code",
   "execution_count": 172,
   "metadata": {},
   "outputs": [],
   "source": [
    "def pow_matrix(B_matrix):\n",
    "    for i in range(0, len(B_matrix)):\n",
    "        for j in range(0, len(B_matrix[0])):\n",
    "            B_matrix[i][j] = B_matrix[i][j] ** 2;\n",
    "    return B_matrix"
   ]
  },
  {
   "cell_type": "code",
   "execution_count": 88,
   "metadata": {},
   "outputs": [],
   "source": [
    "#start optimization\n",
    "num_iter_1 = 2;    # Number of Iteration of the First while loop (while k = 1,2 ...)\n",
    "num_iter_2 = 7;    # Number of Iteration of the Second while loop (while not converge)\n",
    "\n",
    "rho = 0.09;\n",
    "thold = 1;         # thershold value"
   ]
  },
  {
   "cell_type": "code",
   "execution_count": 173,
   "metadata": {},
   "outputs": [
    {
     "name": "stdout",
     "output_type": "stream",
     "text": [
      "No. 1 outter while iteration | No. 1 inner while iteration\n"
     ]
    },
    {
     "name": "stderr",
     "output_type": "stream",
     "text": [
      "/Users/queenieli/opt/anaconda3/lib/python3.7/site-packages/ipykernel_launcher.py:2: RuntimeWarning: divide by zero encountered in true_divide\n",
      "  \n",
      "/Users/queenieli/opt/anaconda3/lib/python3.7/site-packages/ipykernel_launcher.py:2: RuntimeWarning: invalid value encountered in true_divide\n",
      "  \n"
     ]
    },
    {
     "name": "stdout",
     "output_type": "stream",
     "text": [
      "non-zero in mu = 997\n",
      "non-zero in C = 606341\n",
      "non-zero in B = 997000, non-zero in sqrt = 997000\n",
      "real error = 1988007.8839#non-zero in A = 997000\n",
      "No. 1 outter while iteration | No. 2 inner while iteration\n",
      "non-zero in mu = 997\n",
      "non-zero in C = 606131\n",
      "non-zero in B = 1000, non-zero in sqrt = 607075\n",
      "real error = 143.1167#non-zero in A = 607075\n",
      "No. 1 outter while iteration | No. 3 inner while iteration\n"
     ]
    },
    {
     "name": "stderr",
     "output_type": "stream",
     "text": [
      "/Users/queenieli/opt/anaconda3/lib/python3.7/site-packages/ipykernel_launcher.py:56: RuntimeWarning: invalid value encountered in sqrt\n"
     ]
    },
    {
     "name": "stdout",
     "output_type": "stream",
     "text": [
      "non-zero in mu = 997\n",
      "non-zero in C = 605662\n",
      "non-zero in B = 607047, non-zero in sqrt = 607075\n",
      "real error = nan#non-zero in A = 607075\n",
      "No. 1 outter while iteration | No. 4 inner while iteration\n",
      "non-zero in mu = 997\n",
      "non-zero in C = 606103\n",
      "non-zero in B = 972, non-zero in sqrt = 607047\n",
      "real error = 143.0833#non-zero in A = 607047\n",
      "No. 1 outter while iteration | No. 5 inner while iteration\n",
      "non-zero in mu = 997\n",
      "non-zero in C = 605856\n",
      "non-zero in B = 607047, non-zero in sqrt = 607047\n",
      "real error = 1247408.5153#non-zero in A = 607047\n",
      "No. 1 outter while iteration | No. 6 inner while iteration\n",
      "non-zero in mu = 997\n",
      "non-zero in C = 606103\n",
      "non-zero in B = 972, non-zero in sqrt = 607047\n",
      "real error = 143.0831#non-zero in A = 607047\n",
      "No. 1 outter while iteration | No. 7 inner while iteration\n",
      "non-zero in mu = 997\n",
      "non-zero in C = 605850\n",
      "non-zero in B = 607047, non-zero in sqrt = 607047\n",
      "real error = 1247408.5696#non-zero in A = 607047\n",
      "No. 1 outter while iteration | No. 8 inner while iteration\n",
      "non-zero in mu = 997\n",
      "non-zero in C = 606103\n",
      "non-zero in B = 972, non-zero in sqrt = 607047\n",
      "real error = 143.0806#non-zero in A = 607047\n",
      "No. 2 outter while iteration | No. 1 inner while iteration\n",
      "non-zero in mu = 997\n",
      "non-zero in C = 605845\n",
      "non-zero in B = 724433, non-zero in sqrt = 724433\n",
      "real error = 1138289.0194#non-zero in A = 724433\n",
      "No. 2 outter while iteration | No. 2 inner while iteration\n",
      "non-zero in mu = 997\n",
      "non-zero in C = 606134\n",
      "non-zero in B = 724433, non-zero in sqrt = 724433\n",
      "real error = 170469.8641#non-zero in A = 724433\n",
      "No. 2 outter while iteration | No. 3 inner while iteration\n",
      "non-zero in mu = 997\n",
      "non-zero in C = 605889\n",
      "non-zero in B = 724433, non-zero in sqrt = 724433\n",
      "real error = 1138289.0158#non-zero in A = 724433\n",
      "No. 2 outter while iteration | No. 4 inner while iteration\n",
      "non-zero in mu = 997\n",
      "non-zero in C = 606147\n",
      "non-zero in B = 724433, non-zero in sqrt = 724433\n",
      "real error = nan#non-zero in A = 724433\n",
      "No. 2 outter while iteration | No. 5 inner while iteration\n",
      "non-zero in mu = 997\n",
      "non-zero in C = 605887\n",
      "non-zero in B = 724433, non-zero in sqrt = 724433\n",
      "real error = 1138289.0052#non-zero in A = 724433\n",
      "No. 2 outter while iteration | No. 6 inner while iteration\n",
      "non-zero in mu = 997\n",
      "non-zero in C = 606147\n",
      "non-zero in B = 724433, non-zero in sqrt = 724433\n",
      "real error = 170469.8752#non-zero in A = 724433\n",
      "No. 2 outter while iteration | No. 7 inner while iteration\n",
      "non-zero in mu = 997\n",
      "non-zero in C = 605888\n",
      "non-zero in B = 724433, non-zero in sqrt = 724433\n",
      "real error = 1138289.0093#non-zero in A = 724433\n",
      "No. 2 outter while iteration | No. 8 inner while iteration\n",
      "non-zero in mu = 997\n",
      "non-zero in C = 606147\n",
      "non-zero in B = 724433, non-zero in sqrt = 724433\n",
      "real error = 170469.8760#non-zero in A = 724433\n",
      "No. 3 outter while iteration | No. 1 inner while iteration\n",
      "non-zero in mu = 997\n",
      "non-zero in C = 605888\n",
      "non-zero in B = 844567, non-zero in sqrt = 844567\n",
      "real error = 1123694.9672#non-zero in A = 844567\n",
      "No. 3 outter while iteration | No. 2 inner while iteration\n",
      "non-zero in mu = 997\n",
      "non-zero in C = 606159\n",
      "non-zero in B = 844567, non-zero in sqrt = 844567\n",
      "real error = 345842.7265#non-zero in A = 844567\n",
      "No. 3 outter while iteration | No. 3 inner while iteration\n",
      "non-zero in mu = 997\n",
      "non-zero in C = 605858\n",
      "non-zero in B = 844567, non-zero in sqrt = 844567\n",
      "real error = nan#non-zero in A = 844567\n",
      "No. 3 outter while iteration | No. 4 inner while iteration\n",
      "non-zero in mu = 997\n",
      "non-zero in C = 606146\n",
      "non-zero in B = 844567, non-zero in sqrt = 844567\n",
      "real error = 345882.8921#non-zero in A = 844567\n",
      "No. 3 outter while iteration | No. 5 inner while iteration\n",
      "non-zero in mu = 997\n",
      "non-zero in C = 605839\n",
      "non-zero in B = 844567, non-zero in sqrt = 844567\n",
      "real error = nan#non-zero in A = 844567\n",
      "No. 3 outter while iteration | No. 6 inner while iteration\n",
      "non-zero in mu = 997\n",
      "non-zero in C = 606122\n",
      "non-zero in B = 844567, non-zero in sqrt = 844567\n",
      "real error = 345899.7746#non-zero in A = 844567\n",
      "No. 3 outter while iteration | No. 7 inner while iteration\n",
      "non-zero in mu = 997\n",
      "non-zero in C = 605788\n",
      "non-zero in B = 844567, non-zero in sqrt = 844567\n",
      "real error = nan#non-zero in A = 844567\n",
      "No. 3 outter while iteration | No. 8 inner while iteration\n",
      "non-zero in mu = 997\n",
      "non-zero in C = 606144\n",
      "non-zero in B = 844567, non-zero in sqrt = 844567\n",
      "real error = 345899.5180#non-zero in A = 844567\n"
     ]
    }
   ],
   "source": [
    "[x,y,Iteration_Err] = optimize_mu(hawkes_process_samples,D,w,rho,num_iter_1,num_iter_2,thold,A);"
   ]
  },
  {
   "cell_type": "code",
   "execution_count": null,
   "metadata": {},
   "outputs": [],
   "source": []
  }
 ],
 "metadata": {
  "kernelspec": {
   "display_name": "Python 3",
   "language": "python",
   "name": "python3"
  },
  "language_info": {
   "codemirror_mode": {
    "name": "ipython",
    "version": 3
   },
   "file_extension": ".py",
   "mimetype": "text/x-python",
   "name": "python",
   "nbconvert_exporter": "python",
   "pygments_lexer": "ipython3",
   "version": "3.7.4"
  }
 },
 "nbformat": 4,
 "nbformat_minor": 2
}
