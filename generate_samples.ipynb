{
 "cells": [
  {
   "cell_type": "code",
   "execution_count": 41,
   "metadata": {},
   "outputs": [],
   "source": [
    "import numpy as np\n",
    "from numpy import linalg as LA\n",
    "from numpy import matlib\n",
    "from numpy.linalg import matrix_power\n",
    "from timeit import default_timer as timer"
   ]
  },
  {
   "cell_type": "code",
   "execution_count": 16,
   "metadata": {},
   "outputs": [],
   "source": [
    "D = 1000\n",
    "U = np.zeros((D, 9))\n",
    "V = np.zeros((D, 9))"
   ]
  },
  {
   "cell_type": "code",
   "execution_count": 17,
   "metadata": {},
   "outputs": [],
   "source": [
    "for i in range(0, 9):\n",
    "    U[100*i:100*(i+2),i] = (np.random.rand(200,1)/10).reshape(200,);\n",
    "    V[100*i:100*(i+2),i] = (np.random.rand(200,1)/10).reshape(200,);"
   ]
  },
  {
   "cell_type": "code",
   "execution_count": 18,
   "metadata": {},
   "outputs": [],
   "source": [
    "A = np.matmul(U,V.transpose())\n",
    "eigenvalues, eigenvectors = LA.eig(A)\n",
    "max_eigenvalue = max(np.absolute(eigenvalues))\n",
    "A = np.dot(0.8, np.divide(A, max_eigenvalue))"
   ]
  },
  {
   "cell_type": "code",
   "execution_count": 19,
   "metadata": {},
   "outputs": [],
   "source": [
    "mu = np.random.rand(D,1)/D\n",
    "w = 1"
   ]
  },
  {
   "cell_type": "code",
   "execution_count": 20,
   "metadata": {},
   "outputs": [],
   "source": [
    "import math\n",
    "def comp_lambda(cur_t, cur_event, last_t, lambdat,w,mu,A):\n",
    "    lambda_comp = mu + (lambdat - mu)*(math.exp(-w * (cur_t - last_t)))\n",
    "    if (cur_event):\n",
    "        lambda_comp = lambda_comp + np.expand_dims(A[cur_event, :].T,axis=1)\n",
    "    return lambda_comp"
   ]
  },
  {
   "cell_type": "code",
   "execution_count": 21,
   "metadata": {},
   "outputs": [],
   "source": [
    "import random \n",
    "\n",
    "def generate_samples(w, mu, A, num_sequences, max_events_per_sequence):\n",
    "    start_time = timer()\n",
    "    hp_samples = []\n",
    "\n",
    "    for i in range(1, num_sequences+1):\n",
    "        t = 0\n",
    "        timestamp_and_event = []\n",
    "        lambdat = mu\n",
    "        lambdat_sum = np.sum(lambdat)\n",
    "        \n",
    "        while len(timestamp_and_event) < max_events_per_sequence:\n",
    "            rand_u = random.uniform(0, 1)\n",
    "            dt = np.random.exponential(1/lambdat_sum)            \n",
    "            lambda_ts = comp_lambda(t+dt, [], t, lambdat,w,mu,A);\n",
    "            lambdats_sum = np.sum(lambda_ts);\n",
    "                        \n",
    "            if (rand_u > (lambdats_sum/lambdat_sum)):\n",
    "                t = t+dt\n",
    "                lambdat = lambda_ts\n",
    "\n",
    "            else:\n",
    "                u = random.uniform(0, 1) * lambdats_sum\n",
    "                lambda_sum = 0\n",
    "                \n",
    "                d = 0\n",
    "                for d in range(1, len(mu)):\n",
    "                    lambda_sum = lambda_sum + lambda_ts[d]\n",
    "                    if(lambda_sum >= u):\n",
    "                        break\n",
    "            \n",
    "                lambdat = comp_lambda(t+dt, d, t, lambdat, w, mu, A)\n",
    "                t = t+dt\n",
    "                timestamp_and_event.append([t,d])\n",
    "\n",
    "            lambdat_sum = np.sum(lambdat)\n",
    "        \n",
    "        hp_samples.append(timestamp_and_event[0:])\n",
    "        \n",
    "        if (i%10 == 0):\n",
    "            print(\"samples = \" + str(i)+ \"/\" + str(num_sequences) + \", time = \" \n",
    "                  + \"{:.2f}\".format(timer() - start_time) + \" sec.\")\n",
    "    \n",
    "    return hp_samples"
   ]
  },
  {
   "cell_type": "code",
   "execution_count": 22,
   "metadata": {},
   "outputs": [
    {
     "name": "stdout",
     "output_type": "stream",
     "text": [
      "samples = 10/250, time = 1.25 sec.\n",
      "samples = 20/250, time = 2.48 sec.\n",
      "samples = 30/250, time = 3.76 sec.\n",
      "samples = 40/250, time = 4.95 sec.\n",
      "samples = 50/250, time = 6.09 sec.\n",
      "samples = 60/250, time = 7.26 sec.\n",
      "samples = 70/250, time = 8.47 sec.\n",
      "samples = 80/250, time = 9.60 sec.\n",
      "samples = 90/250, time = 10.77 sec.\n",
      "samples = 100/250, time = 11.99 sec.\n",
      "samples = 110/250, time = 13.31 sec.\n",
      "samples = 120/250, time = 14.66 sec.\n",
      "samples = 130/250, time = 15.96 sec.\n",
      "samples = 140/250, time = 17.23 sec.\n",
      "samples = 150/250, time = 18.36 sec.\n",
      "samples = 160/250, time = 19.55 sec.\n",
      "samples = 170/250, time = 20.75 sec.\n",
      "samples = 180/250, time = 21.98 sec.\n",
      "samples = 190/250, time = 23.13 sec.\n",
      "samples = 200/250, time = 24.29 sec.\n",
      "samples = 210/250, time = 25.38 sec.\n",
      "samples = 220/250, time = 26.60 sec.\n",
      "samples = 230/250, time = 27.77 sec.\n",
      "samples = 240/250, time = 28.98 sec.\n",
      "samples = 250/250, time = 30.16 sec.\n"
     ]
    }
   ],
   "source": [
    "num_sequences = 250\n",
    "max_events_per_sequence = 100\n",
    "hawkes_process_samples = generate_samples(w, mu, A, num_sequences, max_events_per_sequence)"
   ]
  },
  {
   "cell_type": "code",
   "execution_count": 23,
   "metadata": {},
   "outputs": [
    {
     "name": "stdout",
     "output_type": "stream",
     "text": [
      "250\n",
      "100\n",
      "[[0.9334405428927507, 375], [1.5912797638775453, 378], [2.0349173853320885, 328], [2.198984891157821, 740], [6.521716097535644, 435], [7.756330713173262, 115], [7.955063247238796, 157], [10.836553210333904, 92], [20.395981742921343, 463], [20.459610931486367, 338], [22.794780946317847, 490], [22.896962765576628, 472], [22.971996273920443, 558], [23.320583306146805, 419], [23.946065904868263, 40], [23.967571078831828, 418], [23.970897379713914, 139], [26.4300643322657, 109], [26.75630756537358, 272], [26.809507028756318, 32], [27.073237631069738, 929], [27.89051121456291, 283], [28.052503054476148, 966], [28.532966988285228, 659], [29.391154496511408, 593], [29.654534036068096, 974], [29.900835376321027, 158], [32.94663211847952, 944], [33.2584486678018, 490], [34.27736811948901, 853], [35.33694938800252, 750], [35.52396407924657, 378], [35.87890248098227, 628], [36.387278890932336, 776], [36.430940454774806, 627], [36.487906202027155, 632], [36.537273452122975, 709], [36.599729831175196, 693], [36.83128610599409, 755], [37.054996514946076, 699], [39.07774154756224, 596], [39.49752750438254, 786], [39.75570104166149, 768], [40.15618115758875, 859], [40.206555761784884, 844], [41.46065970671996, 703], [43.23276854236366, 465], [45.16970159728319, 247], [45.182944226751516, 424], [45.19786500552184, 310], [48.537089338443465, 542], [49.779567163318454, 590], [52.45929752890021, 413], [54.7368292565071, 576], [54.98301037149683, 655], [55.24611408893984, 510], [55.68069123929255, 621], [55.90388376131952, 746], [55.93383373050663, 584], [56.81504139104364, 657], [57.592572839179944, 379], [57.93588562350142, 691], [57.96534720604146, 627], [58.124069017146134, 323], [60.24592484655481, 440], [60.42945564875247, 436], [60.505587203615434, 337], [61.18402025546801, 303], [61.609194278940954, 981], [63.20842007208423, 664], [63.27218939137381, 762], [69.19534888557818, 214], [70.15776450287018, 260], [71.13940740816794, 731], [71.19958119082945, 344], [71.49397633881085, 674], [71.69722474287752, 738], [71.7601624832458, 580], [71.90470632685434, 611], [72.5921581360676, 720], [72.8470389741675, 851], [72.85490905811197, 627], [73.00413830430352, 755], [75.12723404671337, 252], [78.94651343872677, 191], [79.69913028651447, 799], [81.23647323500097, 850], [81.85922122422825, 996], [84.27009734001163, 507], [84.6993486504812, 461], [84.79210128860714, 966], [85.43223592533046, 165], [85.6224771925601, 167], [85.64871364241911, 172], [88.20567924153785, 132], [89.54351260155427, 746], [91.28652392330076, 869], [92.05940460410208, 143], [92.4089408898786, 807], [92.60604564844574, 2]]\n"
     ]
    }
   ],
   "source": [
    "'''\n",
    "timestamp = 1x100 double\n",
    "event = 1x100 event            \n",
    "'''\n",
    "print (len(hawkes_process_samples))\n",
    "print (len(hawkes_process_samples[0]))\n",
    "print (hawkes_process_samples[0])"
   ]
  },
  {
   "cell_type": "code",
   "execution_count": 24,
   "metadata": {},
   "outputs": [],
   "source": [
    "def kernel_g(dt, w):\n",
    "    g = np.multiply(w, math.exp(np.multiply(-w, dt)))\n",
    "    if (g > 1):\n",
    "        g = 0\n",
    "    return g"
   ]
  },
  {
   "cell_type": "code",
   "execution_count": 25,
   "metadata": {},
   "outputs": [],
   "source": [
    "def kernel_int_g(dt, w):\n",
    "    G = np.subtract(1, math.exp(np.multiply(-w, dt)))\n",
    "    if (G < 0):\n",
    "        G = 0\n",
    "    return G"
   ]
  },
  {
   "cell_type": "code",
   "execution_count": 26,
   "metadata": {},
   "outputs": [],
   "source": [
    "def real_err(A, A_m):\n",
    "    err_1 = np.divide(abs(A - A_m), A)\n",
    "    err_2 = abs(A - A_m) \n",
    "    \n",
    "    err_1 = np.nan_to_num(err_1)\n",
    "    err_1 = convert_inf(err_1, np.isinf(err_1))\n",
    "    \n",
    "    err = np.multiply(err_1, double((A!=0)*1)) + np.multiply(err_2, double((A==0)*1))\n",
    "    err = np.sum(err.flatten())/double(A.size)\n",
    "    \n",
    "    return err"
   ]
  },
  {
   "cell_type": "code",
   "execution_count": 27,
   "metadata": {},
   "outputs": [],
   "source": [
    "def convert_inf(A, inf_A):\n",
    "    for i in range(0, len(inf_A)):\n",
    "        for j in range(0, len(inf_A[0])):\n",
    "            if(inf_A[i][j]):\n",
    "                A[i][j] = 0\n",
    "    return A"
   ]
  },
  {
   "cell_type": "code",
   "execution_count": 28,
   "metadata": {},
   "outputs": [],
   "source": [
    "def optimize_mu(hp_samples, D, w, rho, num_iter_1, num_iter_2, thold, real_A):\n",
    "    A_m = np.random.rand(D,D);\n",
    "    eigenvalues_m, eigenvectors_m = LA.eig(A_m)\n",
    "    max_eigenvalue_m = max(np.absolute(eigenvalues_m))\n",
    "    A_m = np.dot(0.8, np.divide(A_m, max_eigenvalue_m))\n",
    "    \n",
    "    # reshape may required in mu_m\n",
    "    mu_m = np.divide(np.random.rand(D, 1), D)\n",
    "    UL = np.zeros((D, D))\n",
    "    ZL = np.zeros((D, D))\n",
    "    US = np.zeros((D, D))\n",
    "    ZS = np.zeros((D, D))\n",
    "    \n",
    "    for i in range(0, num_iter_1 + 1):\n",
    "        rho = rho * 1.1\n",
    "        \n",
    "        for j in range(0, num_iter_2 + 1):\n",
    "            print (\"No. \" + str(i + 1) + \" outter while iteration | No. \" \n",
    "                   + str(j + 1) +  \" inner while iteration\")\n",
    "            A_m, mu_m, RelErr = update_mu(A_m, mu_m, hp_samples, UL, ZL, US, ZS, w, rho, D, real_A)\n",
    "            Iteration_Err[j + 1, i + 1] = RelErr\n",
    "        \n",
    "        s, v, d = np.linalg.svd(np.add(A_m, US))\n",
    "        v = np.subtract(v, thold / rho)\n",
    "        v[v < 0] = 0\n",
    "        ZL = s * v * d.T\n",
    "        UL = UL + np.subtract(A_m, ZL) #changed A_m-ZL to np.subtract\n",
    "        \n",
    "        #idk looks good to me lol\n",
    "        tmp = np.subtract(abs(np.add(A_m, US)), thold / rho) # may have error \n",
    "        \n",
    "        tmp[tmp < 0] = 0\n",
    "        ZS = (np.multiply(np.sign(np.add(A_m, US)), tmp))\n",
    "        US = np.add(US, np.subtract(A_M, ZS))\n",
    "        \n",
    "    return A_m, mu_m, Iteration_Err"
   ]
  },
  {
   "cell_type": "code",
   "execution_count": 44,
   "metadata": {},
   "outputs": [],
   "source": [
    "def update_mu (A_m, mu_m, hp_samples, UL, ZL, US, ZS, w, rho, D, real_A):\n",
    "    num_samples = length(hp_samples)\n",
    "    mu_numerator = np.zeros(D, 1)\n",
    "    \n",
    "    C = np.zeros((len(A_m), len(A_m[0])))\n",
    "    A_Step = np.add(np.zeros((len(A_m), len(A_m[0]))), r * rho)\n",
    "    B = np.add(np.add(zeros((len(A_m), len(A_m[0]))), np.multiply(rho, np.subtract(UL, ZL))), \n",
    "               np.multiply(rho, np.subtract(US, ZS)))\n",
    "    \n",
    "    for s in range(0, num_samples):\n",
    "        cur_hp_samples = hp_samples[s]\n",
    "        timestamp = [i[0] for i in cur_hp_samples]\n",
    "        event = [i[1] for i in cur_hp_samples]\n",
    "        tc = timestamp[len(timestamp) - 1]\n",
    "        nc = len(event)\n",
    "        dt = np.subtract(tc, timestamp)\n",
    "        \n",
    "        for i in range(0, nc):\n",
    "            ui = event[i]\n",
    "            ti = timestamp[i]\n",
    "            int_g = kernel_int_g(dt, w)\n",
    "            \n",
    "            # Todo: modify matrix B (Incomplete)\n",
    "            # B(ui,:) = B(ui,:) + double(A_m(ui,:)>0).*repmat(int_g(i),[1,D]);\n",
    "            B[ui,:] = B[ui,:] + np.multiply(double(A_m[ui,:]>0), np.matlib.repmat(int_g[i], 1, D))\n",
    "            \n",
    "            pii = []\n",
    "            pij = []\n",
    "            ag_arr = []\n",
    "            \n",
    "            if (i > 0):\n",
    "                tj = timestamp[0 : i]\n",
    "                uj = event[0 : i]\n",
    "                kn_g = kernel_g(ti - tj, w)\n",
    "                ag_arr = np.multiply(A_m[uj, ui], kn_g.T)\n",
    "                \n",
    "            pii = np.divide(mu_m[ui], mu_m[ui] + sum(ag_arr))\n",
    "            \n",
    "            if(i > 0):\n",
    "                pij = np.divide(ag_arr, mu_m[ui] + sum(ag_arr))\n",
    "                if (len(pij) != 0 and sum([sum(k) for k in pij]) > 0):\n",
    "                    for j in range(0, len(uj)):\n",
    "                        uuj = uj[j]\n",
    "                        C[uuj, ui] = C[uuj, ui] - pij[j, :] ## (Incomplete) Question: what we have at the end ??? value or vector ??\n",
    "            \n",
    "            mu_numerator[ui] = np.add(mu_numerator[ui], pii)\n",
    "            \n",
    "    mu = np.divide(mu_numerator, np.add(np.zeros((D, 1)), tc))\n",
    "    sqrt_eq = math.sqrt(np.subtract(matrix_power(B, 2), np.multiply(4, np.multiply(A_step, C))))\n",
    "    A  = np.divide(np.add(np.multiply(-1, B), sqrt_eq), np.multiply(2, A_Step))\n",
    "    RelErr = real_err(real_A, A)\n",
    "    \n",
    "    print (\"non-zero in mu = \" + np.count_nonzero(mu))\n",
    "    print (\"non-zero in C = \"  + np.count_nonzero(C))\n",
    "    print (\"non-zero in B = \"  + np.count_nonzero(B) + \", non-zero in sqrt = \" + np.count_nonzero(sqrt_eq))\n",
    "    print (\"real error = \" + \"{:.4f}\".format(RelErr) + \", correlation = \" + \"{:.4f}\".format()  # (Incomplete)\n",
    "           + \"#non-zero in A = \" + np.count_nonzero(A))\n",
    "            \n",
    "    A = np.nan_to_num(A)\n",
    "    A = convert_inf(A, np.isinf(A))\n",
    "    \n",
    "    return A, mu, RelErr"
   ]
  },
  {
   "cell_type": "code",
   "execution_count": 45,
   "metadata": {},
   "outputs": [],
   "source": [
    "#start optimization\n",
    "num_iter_1 = 2;    # Number of Iteration of the First while loop (while k = 1,2 ...)\n",
    "num_iter_2 = 7;    # Number of Iteration of the Second while loop (while not converge)\n",
    "\n",
    "rho = 0.09;\n",
    "thold = 1;         # thershold value"
   ]
  },
  {
   "cell_type": "code",
   "execution_count": null,
   "metadata": {},
   "outputs": [],
   "source": [
    "[x,y,Iteration_Err] = optimize_mu(hp_samples,D,w,rho,num_iter_1,num_iter_2,thold,A);"
   ]
  },
  {
   "cell_type": "code",
   "execution_count": null,
   "metadata": {},
   "outputs": [],
   "source": []
  }
 ],
 "metadata": {
  "kernelspec": {
   "display_name": "Python 2",
   "language": "python",
   "name": "python2"
  },
  "language_info": {
   "codemirror_mode": {
    "name": "ipython",
    "version": 2
   },
   "file_extension": ".py",
   "mimetype": "text/x-python",
   "name": "python",
   "nbconvert_exporter": "python",
   "pygments_lexer": "ipython2",
   "version": "2.7.15"
  }
 },
 "nbformat": 4,
 "nbformat_minor": 2
}
