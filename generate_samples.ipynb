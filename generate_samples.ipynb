{
 "cells": [
  {
   "cell_type": "code",
   "execution_count": 50,
   "metadata": {},
   "outputs": [],
   "source": [
    "import numpy as np\n",
    "from numpy import linalg as LA"
   ]
  },
  {
   "cell_type": "code",
   "execution_count": 51,
   "metadata": {},
   "outputs": [],
   "source": [
    "D = 1000\n",
    "U = np.zeros((D, 9))\n",
    "V = np.zeros((D, 9))"
   ]
  },
  {
   "cell_type": "code",
   "execution_count": 52,
   "metadata": {},
   "outputs": [],
   "source": [
    "for i in range(0, 9):\n",
    "    U[100*i:100*(i+2),i] = (np.random.rand(200,1)/10).reshape(200,);\n",
    "    V[100*i:100*(i+2),i] = (np.random.rand(200,1)/10).reshape(200,);"
   ]
  },
  {
   "cell_type": "code",
   "execution_count": 53,
   "metadata": {},
   "outputs": [],
   "source": [
    "A = np.matmul(U,V.transpose())\n",
    "eigenvalues = LA.eig(A)\n",
    "max_eigenvalue = max(eigenvalues[0])\n",
    "A = 0.8*A/max_eigenvalue"
   ]
  },
  {
   "cell_type": "code",
   "execution_count": 54,
   "metadata": {},
   "outputs": [],
   "source": [
    "mu = np.random.rand(D,1)/D\n",
    "w = 1"
   ]
  },
  {
   "cell_type": "code",
   "execution_count": 84,
   "metadata": {},
   "outputs": [],
   "source": [
    "import math\n",
    "def comp_lambda(cur_t, cur_event, last_t, lambdat,w,mu,A):\n",
    "    lambda_comp = mu + (lambdat - mu)*(math.exp(-w * (cur_t - last_t)))\n",
    "    if (cur_event):\n",
    "        lambda_comp = lambda_comp + A[cur_event, :].transpose()\n",
    "    return lambda_comp"
   ]
  },
  {
   "cell_type": "code",
   "execution_count": 114,
   "metadata": {},
   "outputs": [],
   "source": [
    "import random \n",
    "\n",
    "def generate_samples(w, mu, A, num_sequences, max_events_per_sequence):\n",
    "    hp_samples = []\n",
    "\n",
    "    for i in range(1, num_sequences):\n",
    "        t = 0\n",
    "        timestamp_and_event = []\n",
    "        lambdat = mu\n",
    "        lambdat_sum = np.sum(lambdat)\n",
    "        \n",
    "        while len(timestamp_and_event) < max_events_per_sequence:\n",
    "            rand_u = random.uniform(0, 1)\n",
    "            dt = np.random.exponential(1/lambdat_sum)            \n",
    "            lambda_ts = comp_lambda(t+dt, [], t, lambdat,w,mu,A);\n",
    "            lambdats_sum = np.sum(lambda_ts);\n",
    "            \n",
    "#             print(lambdat_sum)\n",
    "            print(rand_u, (lambdats_sum/lambdat_sum))\n",
    "            \n",
    "            if (rand_u > (lambdats_sum/lambdat_sum)):\n",
    "                t = t+dt\n",
    "                lambdat = lambda_ts\n",
    "\n",
    "            else:\n",
    "                u = random.uniform(0, 1) * lambdats_sum\n",
    "                lambda_sum = 0\n",
    "                \n",
    "                d = 0\n",
    "                for d in range(1, len(mu)):\n",
    "                    lambda_sum = lambda_sum + lambda_ts[d]\n",
    "                    if(lambda_sum >= u):\n",
    "                        break\n",
    "                \n",
    "                lambdat = comp_lambda(t+dt, d, t, lambdat, w, mu, A)\n",
    "                t = t+dt\n",
    "                timestamp_and_event = [timestamp_and_event, [t, d]]\n",
    "\n",
    "            lambdat_sum = np.sum(lambdat)\n",
    "        \n",
    "        hp_samples.append(timestamp_and_event[1, :], timestamp_and_event[2, :])\n",
    "        \n",
    "        if (i%10 == 0):\n",
    "            print(\"samples = \" + n + \"/\" + num_sequence)\n",
    "    "
   ]
  },
  {
   "cell_type": "code",
   "execution_count": 115,
   "metadata": {},
   "outputs": [
    {
     "name": "stdout",
     "output_type": "stream",
     "text": [
      "0.5192641029189693\n",
      "(1017.2994205459925+0j)\n"
     ]
    },
    {
     "name": "stderr",
     "output_type": "stream",
     "text": [
      "/usr/local/lib/python2.7/site-packages/ipykernel_launcher.py:14: ComplexWarning: Casting complex values to real discards the imaginary part\n",
      "  \n"
     ]
    },
    {
     "ename": "ValueError",
     "evalue": "The truth value of an array with more than one element is ambiguous. Use a.any() or a.all()",
     "output_type": "error",
     "traceback": [
      "\u001b[0;31m---------------------------------------------------------------------------\u001b[0m",
      "\u001b[0;31mValueError\u001b[0m                                Traceback (most recent call last)",
      "\u001b[0;32m<ipython-input-115-75d2e92816f0>\u001b[0m in \u001b[0;36m<module>\u001b[0;34m()\u001b[0m\n\u001b[1;32m      1\u001b[0m \u001b[0mnum_sequences\u001b[0m \u001b[0;34m=\u001b[0m \u001b[0;36m250\u001b[0m\u001b[0;34m\u001b[0m\u001b[0m\n\u001b[1;32m      2\u001b[0m \u001b[0mmax_events_per_sequence\u001b[0m \u001b[0;34m=\u001b[0m \u001b[0;36m100\u001b[0m\u001b[0;34m\u001b[0m\u001b[0m\n\u001b[0;32m----> 3\u001b[0;31m \u001b[0mhawkes_process_samples\u001b[0m \u001b[0;34m=\u001b[0m \u001b[0mgenerate_samples\u001b[0m\u001b[0;34m(\u001b[0m\u001b[0mw\u001b[0m\u001b[0;34m,\u001b[0m \u001b[0mmu\u001b[0m\u001b[0;34m,\u001b[0m \u001b[0mA\u001b[0m\u001b[0;34m,\u001b[0m \u001b[0mnum_sequences\u001b[0m\u001b[0;34m,\u001b[0m \u001b[0mmax_events_per_sequence\u001b[0m\u001b[0;34m)\u001b[0m\u001b[0;34m\u001b[0m\u001b[0m\n\u001b[0m",
      "\u001b[0;32m<ipython-input-114-d423c27482a4>\u001b[0m in \u001b[0;36mgenerate_samples\u001b[0;34m(w, mu, A, num_sequences, max_events_per_sequence)\u001b[0m\n\u001b[1;32m     30\u001b[0m                 \u001b[0;32mfor\u001b[0m \u001b[0md\u001b[0m \u001b[0;32min\u001b[0m \u001b[0mrange\u001b[0m\u001b[0;34m(\u001b[0m\u001b[0;36m1\u001b[0m\u001b[0;34m,\u001b[0m \u001b[0mlen\u001b[0m\u001b[0;34m(\u001b[0m\u001b[0mmu\u001b[0m\u001b[0;34m)\u001b[0m\u001b[0;34m)\u001b[0m\u001b[0;34m:\u001b[0m\u001b[0;34m\u001b[0m\u001b[0m\n\u001b[1;32m     31\u001b[0m                     \u001b[0mlambda_sum\u001b[0m \u001b[0;34m=\u001b[0m \u001b[0mlambda_sum\u001b[0m \u001b[0;34m+\u001b[0m \u001b[0mlambda_ts\u001b[0m\u001b[0;34m[\u001b[0m\u001b[0md\u001b[0m\u001b[0;34m]\u001b[0m\u001b[0;34m\u001b[0m\u001b[0m\n\u001b[0;32m---> 32\u001b[0;31m                     \u001b[0;32mif\u001b[0m\u001b[0;34m(\u001b[0m\u001b[0mlambda_sum\u001b[0m \u001b[0;34m>=\u001b[0m \u001b[0mu\u001b[0m\u001b[0;34m)\u001b[0m\u001b[0;34m:\u001b[0m\u001b[0;34m\u001b[0m\u001b[0m\n\u001b[0m\u001b[1;32m     33\u001b[0m                         \u001b[0;32mbreak\u001b[0m\u001b[0;34m\u001b[0m\u001b[0m\n\u001b[1;32m     34\u001b[0m \u001b[0;34m\u001b[0m\u001b[0m\n",
      "\u001b[0;31mValueError\u001b[0m: The truth value of an array with more than one element is ambiguous. Use a.any() or a.all()"
     ]
    }
   ],
   "source": [
    "num_sequences = 250\n",
    "max_events_per_sequence = 100\n",
    "hawkes_process_samples = generate_samples(w, mu, A, num_sequences, max_events_per_sequence)"
   ]
  },
  {
   "cell_type": "code",
   "execution_count": null,
   "metadata": {},
   "outputs": [],
   "source": []
  },
  {
   "cell_type": "code",
   "execution_count": null,
   "metadata": {},
   "outputs": [],
   "source": []
  }
 ],
 "metadata": {
  "kernelspec": {
   "display_name": "Python 2",
   "language": "python",
   "name": "python2"
  },
  "language_info": {
   "codemirror_mode": {
    "name": "ipython",
    "version": 2
   },
   "file_extension": ".py",
   "mimetype": "text/x-python",
   "name": "python",
   "nbconvert_exporter": "python",
   "pygments_lexer": "ipython2",
   "version": "2.7.15"
  }
 },
 "nbformat": 4,
 "nbformat_minor": 2
}
