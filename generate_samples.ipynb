{
 "cells": [
  {
   "cell_type": "code",
   "execution_count": 1,
   "metadata": {},
   "outputs": [],
   "source": [
    "import numpy as np\n",
    "from numpy import linalg as LA"
   ]
  },
  {
   "cell_type": "code",
   "execution_count": 2,
   "metadata": {},
   "outputs": [],
   "source": [
    "D = 1000\n",
    "U = np.zeros((D, 9))\n",
    "V = np.zeros((D, 9))"
   ]
  },
  {
   "cell_type": "code",
   "execution_count": 3,
   "metadata": {},
   "outputs": [],
   "source": [
    "for i in range(0, 9):\n",
    "    U[100*i:100*(i+2),i] = (np.random.rand(200,1)/10).reshape(200,);\n",
    "    V[100*i:100*(i+2),i] = (np.random.rand(200,1)/10).reshape(200,);"
   ]
  },
  {
   "cell_type": "code",
   "execution_count": 4,
   "metadata": {},
   "outputs": [],
   "source": [
    "A = np.matmul(U,V.transpose())\n",
    "eigenvalues = LA.eig(A)\n",
    "max_eigenvalue = max(eigenvalues[0])\n",
    "A = 0.8*A/max_eigenvalue"
   ]
  },
  {
   "cell_type": "code",
   "execution_count": 5,
   "metadata": {},
   "outputs": [],
   "source": [
    "mu = np.random.rand(D,1)/D\n",
    "w = 1"
   ]
  },
  {
   "cell_type": "code",
   "execution_count": null,
   "metadata": {},
   "outputs": [],
   "source": [
    "function lambda = comp_lambda(cur_t, cur_event, last_t, lambdat,w,mu,A) \n",
    "lambda = mu + (lambdat - mu).*(exp(-w * (cur_t - last_t)));\n",
    "if ~isempty(cur_event)%not empty, sum over all\n",
    "    lambda = lambda + A(cur_event,:)';\n",
    "end\n",
    "end"
   ]
  },
  {
   "cell_type": "code",
   "execution_count": 6,
   "metadata": {},
   "outputs": [],
   "source": [
    "def generate_samples(w, mu, A, num_sequences, max_events_per_sequence):\n",
    "    for n in range(1, num_sequences):\n",
    "        t = 0\n",
    "        timestamp_and_event = []\n",
    "        lambdat = mu\n",
    "        lamdat_sum = sum(labdat)\n",
    "        \n",
    "        while len(timestamp_and_event, 2) < max_events_per_sequence:\n",
    "            rand_u = rand\n",
    "            dt = random(exp, 1/lambdat_sum)\n",
    "            lambda_ts = comp_lambda(t+dt, [], t, lambdat,w,mu,A);\n",
    "            lambdats_sum = sum(lambda_ts);\n",
    "        \n",
    "            if rand_u > lambdats_sum/lambdat_sum:\n",
    "                t = t+dt\n",
    "                lambdat = lambda_ts\n",
    "\n",
    "            else:\n",
    "                u = rand * lambdats_sum\n",
    "                lambda_sum = 0\n",
    "\n",
    "                for d in range(1, length(mu)):\n",
    "                    lambda_sum = lambda_sum + lambda_ts(d)\n",
    "                    if(lambda_sum >= u):\n",
    "                        break\n",
    "\n",
    "                lambdat = comp_lambda(t+dt, d, t, lambdat, w, mu, A)\n",
    "                t = t+dt\n",
    "                timestamp_and_event = [timestamp_and_event, [t, d]]\n",
    "\n",
    "            lambdat_sum = sum(lambdat)\n",
    "        \n",
    "        hp_samples[n].timestamp = timestamp_and_event(1, :)\n",
    "        hp_samples[n].event = timestamp_and_event(2, :)\n",
    "        \n",
    "        if (n%10 == 0):\n",
    "            print(\"samples = \" + n + \"/\" + num_sequence)\n",
    "    "
   ]
  },
  {
   "cell_type": "code",
   "execution_count": 7,
   "metadata": {},
   "outputs": [],
   "source": [
    "num_sequences = 250\n",
    "max_events_per_sequence = 100\n",
    "hawkes_process_samples = generate_samples(w, mu, A, num_sequences, max_events_per_sequence)"
   ]
  },
  {
   "cell_type": "code",
   "execution_count": null,
   "metadata": {},
   "outputs": [],
   "source": []
  }
 ],
 "metadata": {
  "kernelspec": {
   "display_name": "Python 2",
   "language": "python",
   "name": "python2"
  },
  "language_info": {
   "codemirror_mode": {
    "name": "ipython",
    "version": 2
   },
   "file_extension": ".py",
   "mimetype": "text/x-python",
   "name": "python",
   "nbconvert_exporter": "python",
   "pygments_lexer": "ipython2",
   "version": "2.7.15"
  }
 },
 "nbformat": 4,
 "nbformat_minor": 2
}
