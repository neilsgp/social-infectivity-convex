{
 "cells": [
  {
   "cell_type": "code",
   "execution_count": 115,
   "metadata": {},
   "outputs": [],
   "source": [
    "import numpy as np\n",
    "from numpy import linalg as LA"
   ]
  },
  {
   "cell_type": "code",
   "execution_count": 116,
   "metadata": {},
   "outputs": [],
   "source": [
    "D = 1000\n",
    "U = np.zeros((D, 9))\n",
    "V = np.zeros((D, 9))"
   ]
  },
  {
   "cell_type": "code",
   "execution_count": 117,
   "metadata": {},
   "outputs": [],
   "source": [
    "for i in range(0, 9):\n",
    "    U[100*i:100*(i+2),i] = (np.random.rand(200,1)/10).reshape(200,);\n",
    "    V[100*i:100*(i+2),i] = (np.random.rand(200,1)/10).reshape(200,);"
   ]
  },
  {
   "cell_type": "code",
   "execution_count": 118,
   "metadata": {},
   "outputs": [],
   "source": [
    "A = np.matmul(U,V.transpose())\n",
    "eigenvalues = LA.eig(A)\n",
    "max_eigenvalue = max(eigenvalues[0])\n",
    "A = 0.8*A/max_eigenvalue"
   ]
  },
  {
   "cell_type": "code",
   "execution_count": 119,
   "metadata": {},
   "outputs": [],
   "source": [
    "mu = np.random.rand(D,1)/D\n",
    "w = 1"
   ]
  },
  {
   "cell_type": "code",
   "execution_count": 120,
   "metadata": {},
   "outputs": [],
   "source": [
    "import math\n",
    "def comp_lambda(cur_t, cur_event, last_t, lambdat,w,mu,A):\n",
    "    lambda_comp = mu + (lambdat - mu)*(math.exp(-w * (cur_t - last_t)))\n",
    "    if (cur_event):\n",
    "        lambda_comp = lambda_comp + np.expand_dims(A[cur_event, :].T,axis=1)\n",
    "    return lambda_comp"
   ]
  },
  {
   "cell_type": "code",
   "execution_count": 121,
   "metadata": {},
   "outputs": [],
   "source": [
    "import random \n",
    "\n",
    "def generate_samples(w, mu, A, num_sequences, max_events_per_sequence):\n",
    "    hp_samples = []\n",
    "\n",
    "    for i in range(1, num_sequences+1):\n",
    "        t = 0\n",
    "        timestamp_and_event = []\n",
    "        lambdat = mu\n",
    "        lambdat_sum = np.sum(lambdat)\n",
    "        \n",
    "        while len(timestamp_and_event) < max_events_per_sequence:\n",
    "            rand_u = random.uniform(0, 1)\n",
    "            dt = np.random.exponential(1/lambdat_sum)            \n",
    "            lambda_ts = comp_lambda(t+dt, [], t, lambdat,w,mu,A);\n",
    "            lambdats_sum = np.sum(lambda_ts);\n",
    "                        \n",
    "            if (rand_u > (lambdats_sum/lambdat_sum)):\n",
    "                t = t+dt\n",
    "                lambdat = lambda_ts\n",
    "\n",
    "            else:\n",
    "                u = random.uniform(0, 1) * lambdats_sum\n",
    "                lambda_sum = 0\n",
    "                \n",
    "                d = 0\n",
    "                for d in range(1, len(mu)):\n",
    "                    lambda_sum = lambda_sum + lambda_ts[d]\n",
    "                    if(lambda_sum >= u):\n",
    "                        break\n",
    "            \n",
    "                lambdat = comp_lambda(t+dt, d, t, lambdat, w, mu, A)\n",
    "                t = t+dt\n",
    "                timestamp_and_event.append([t,d])\n",
    "\n",
    "            lambdat_sum = np.sum(lambdat)\n",
    "        \n",
    "        hp_samples.append(timestamp_and_event[0:])\n",
    "        \n",
    "        if (i%10 == 0):\n",
    "            print(\"samples = \" + str(i)+ \"/\" + str(num_sequences))\n",
    "    \n",
    "    return hp_samples"
   ]
  },
  {
   "cell_type": "code",
   "execution_count": 122,
   "metadata": {},
   "outputs": [
    {
     "name": "stderr",
     "output_type": "stream",
     "text": [
      "/usr/local/lib/python2.7/site-packages/ipykernel_launcher.py:17: ComplexWarning: Casting complex values to real discards the imaginary part\n"
     ]
    },
    {
     "name": "stdout",
     "output_type": "stream",
     "text": [
      "samples = 10/250\n",
      "samples = 20/250\n",
      "samples = 30/250\n",
      "samples = 40/250\n",
      "samples = 50/250\n",
      "samples = 60/250\n",
      "samples = 70/250\n",
      "samples = 80/250\n",
      "samples = 90/250\n",
      "samples = 100/250\n",
      "samples = 110/250\n",
      "samples = 120/250\n",
      "samples = 130/250\n",
      "samples = 140/250\n",
      "samples = 150/250\n",
      "samples = 160/250\n",
      "samples = 170/250\n",
      "samples = 180/250\n",
      "samples = 190/250\n",
      "samples = 200/250\n",
      "samples = 210/250\n",
      "samples = 220/250\n",
      "samples = 230/250\n",
      "samples = 240/250\n",
      "samples = 250/250\n"
     ]
    }
   ],
   "source": [
    "num_sequences = 250\n",
    "max_events_per_sequence = 100\n",
    "hawkes_process_samples = generate_samples(w, mu, A, num_sequences, max_events_per_sequence)"
   ]
  },
  {
   "cell_type": "code",
   "execution_count": 128,
   "metadata": {},
   "outputs": [
    {
     "name": "stdout",
     "output_type": "stream",
     "text": [
      "250\n",
      "100\n",
      "[[0.36183797522221467, 555], [1.493011836630378, 150], [2.2104443091503385, 429], [2.741068964657538, 619], [2.8769966396716766, 798], [3.4194277278822147, 683], [4.5361277310339485, 743], [4.698020201778641, 693], [5.059280913326963, 284], [5.4801088262544235, 292], [5.777113315106577, 839], [6.264534755621658, 852], [6.582032552334015, 367], [6.865503919018567, 878], [7.332322215852813, 909], [7.345227136204455, 983], [7.396615133485972, 819], [7.586217166541552, 991], [7.599038726596531, 939], [8.065879063910463, 871], [8.379433116582751, 723], [8.847685652874341, 910], [9.81093046410776, 860], [9.951449309796242, 818], [9.985263623238907, 924], [10.011498898678244, 861], [10.033708744526509, 836], [10.099290815234053, 845], [10.749901317029261, 706], [10.906259945019523, 895], [11.272106795363234, 963], [11.875074682879932, 53], [12.025365159454921, 942], [12.131761929668873, 803], [12.38904431560262, 789], [12.474769604416366, 827], [12.698785501994003, 415], [12.803571362877463, 431], [12.877365841858795, 677], [13.051232953462277, 763], [14.398070807855609, 398], [15.058833114177267, 840], [15.362977681152522, 377], [16.74505093709756, 348], [17.275246277749982, 855], [17.666348119608696, 946], [17.81544297943201, 921], [17.82101525419227, 991], [17.899132784005523, 806], [18.911003813564633, 240], [19.253091396390463, 408], [19.710779515008937, 823], [19.948301262534663, 320], [20.461789738546802, 536], [21.030622193414473, 860], [21.483808271015047, 566], [21.636751100188484, 394], [21.680254439363974, 364], [21.75777740086243, 825], [21.86293155366024, 652], [22.001037577074527, 878], [22.032810992749532, 357], [22.140195221070833, 857], [22.179321265011833, 629], [22.36525375270062, 829], [22.38861255444675, 541], [22.64908821389018, 806], [22.71905193431633, 848], [22.99577584242999, 917], [23.095743109463424, 537], [23.884740472418326, 949], [24.17033427481135, 811], [24.359122076852632, 298], [24.771098097841197, 209], [24.79287024354448, 90], [24.971438576006882, 840], [25.06824073858533, 256], [25.068657427716595, 738], [25.364112687120308, 758], [25.461205354540233, 205], [25.580900533303858, 811], [25.7214667013863, 737], [27.502942057660604, 907], [27.54966381672705, 938], [27.951173817958477, 927], [28.00411407029879, 962], [28.208502921540642, 961], [28.414257341842866, 948], [28.550591117641556, 978], [28.56081730607145, 896], [28.988050054568568, 731], [29.30695861681792, 844], [29.65241901250977, 933], [33.8514458891801, 828], [34.58122776865033, 868], [34.91200958943065, 886], [35.03459149582417, 716], [35.19666642436475, 892], [35.386255252905826, 920], [36.361858327334346, 730]]\n"
     ]
    }
   ],
   "source": [
    "'''\n",
    "timestamp = 1x100 double\n",
    "event = 1x100 event            \n",
    "'''\n",
    "print len(hawkes_process_samples)\n",
    "print len(hawkes_process_samples[0])\n",
    "print (hawkes_process_samples[0])"
   ]
  },
  {
   "cell_type": "code",
   "execution_count": null,
   "metadata": {},
   "outputs": [],
   "source": []
  }
 ],
 "metadata": {
  "kernelspec": {
   "display_name": "Python 2",
   "language": "python",
   "name": "python2"
  },
  "language_info": {
   "codemirror_mode": {
    "name": "ipython",
    "version": 2
   },
   "file_extension": ".py",
   "mimetype": "text/x-python",
   "name": "python",
   "nbconvert_exporter": "python",
   "pygments_lexer": "ipython2",
   "version": "2.7.15"
  }
 },
 "nbformat": 4,
 "nbformat_minor": 2
}
