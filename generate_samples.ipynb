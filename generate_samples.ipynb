{
 "cells": [
  {
   "cell_type": "code",
   "execution_count": 11,
   "metadata": {},
   "outputs": [],
   "source": [
    "import numpy as np\n",
    "from numpy import linalg as LA\n",
    "from numpy.linalg import matrix_power\n",
    "from timeit import default_timer as timer"
   ]
  },
  {
   "cell_type": "code",
   "execution_count": 12,
   "metadata": {},
   "outputs": [],
   "source": [
    "D = 1000\n",
    "U = np.zeros((D, 9))\n",
    "V = np.zeros((D, 9))"
   ]
  },
  {
   "cell_type": "code",
   "execution_count": 13,
   "metadata": {},
   "outputs": [],
   "source": [
    "for i in range(0, 9):\n",
    "    U[100*i:100*(i+2),i] = (np.random.rand(200,1)/10).reshape(200,);\n",
    "    V[100*i:100*(i+2),i] = (np.random.rand(200,1)/10).reshape(200,);"
   ]
  },
  {
   "cell_type": "code",
   "execution_count": 14,
   "metadata": {},
   "outputs": [],
   "source": [
    "A = np.matmul(U,V.transpose())\n",
    "eigenvalues, eigenvectors = LA.eig(A)\n",
    "max_eigenvalue = max(np.absolute(eigenvalues))\n",
    "A = np.dot(0.8, np.divide(A, max_eigenvalue))"
   ]
  },
  {
   "cell_type": "code",
   "execution_count": 15,
   "metadata": {},
   "outputs": [],
   "source": [
    "mu = np.random.rand(D,1)/D\n",
    "w = 1"
   ]
  },
  {
   "cell_type": "code",
   "execution_count": 16,
   "metadata": {},
   "outputs": [],
   "source": [
    "import math\n",
    "def comp_lambda(cur_t, cur_event, last_t, lambdat,w,mu,A):\n",
    "    lambda_comp = mu + (lambdat - mu)*(math.exp(-w * (cur_t - last_t)))\n",
    "    if (cur_event):\n",
    "        lambda_comp = lambda_comp + np.expand_dims(A[cur_event, :].T,axis=1)\n",
    "    return lambda_comp"
   ]
  },
  {
   "cell_type": "code",
   "execution_count": 17,
   "metadata": {},
   "outputs": [],
   "source": [
    "import random \n",
    "\n",
    "def generate_samples(w, mu, A, num_sequences, max_events_per_sequence):\n",
    "    start_time = timer()\n",
    "    hp_samples = []\n",
    "\n",
    "    for i in range(1, num_sequences+1):\n",
    "        t = 0\n",
    "        timestamp_and_event = []\n",
    "        lambdat = mu\n",
    "        lambdat_sum = np.sum(lambdat)\n",
    "        \n",
    "        while len(timestamp_and_event) < max_events_per_sequence:\n",
    "            rand_u = random.uniform(0, 1)\n",
    "            dt = np.random.exponential(1/lambdat_sum)            \n",
    "            lambda_ts = comp_lambda(t+dt, [], t, lambdat,w,mu,A);\n",
    "            lambdats_sum = np.sum(lambda_ts);\n",
    "                        \n",
    "            if (rand_u > (lambdats_sum/lambdat_sum)):\n",
    "                t = t+dt\n",
    "                lambdat = lambda_ts\n",
    "\n",
    "            else:\n",
    "                u = random.uniform(0, 1) * lambdats_sum\n",
    "                lambda_sum = 0\n",
    "                \n",
    "                d = 0\n",
    "                for d in range(1, len(mu)):\n",
    "                    lambda_sum = lambda_sum + lambda_ts[d]\n",
    "                    if(lambda_sum >= u):\n",
    "                        break\n",
    "            \n",
    "                lambdat = comp_lambda(t+dt, d, t, lambdat, w, mu, A)\n",
    "                t = t+dt\n",
    "                timestamp_and_event.append([t,d])\n",
    "\n",
    "            lambdat_sum = np.sum(lambdat)\n",
    "        \n",
    "        hp_samples.append(timestamp_and_event[0:])\n",
    "        \n",
    "        if (i%10 == 0):\n",
    "            print(\"samples = \" + str(i)+ \"/\" + str(num_sequences) + \", time = \" \n",
    "                  + \"{:.2f}\".format(timer() - start_time) + \" sec.\")\n",
    "    \n",
    "    return hp_samples"
   ]
  },
  {
   "cell_type": "code",
   "execution_count": 18,
   "metadata": {},
   "outputs": [
    {
     "name": "stdout",
     "output_type": "stream",
     "text": [
      "samples = 10/250, time = 0.95 sec.\n",
      "samples = 20/250, time = 1.82 sec.\n",
      "samples = 30/250, time = 2.71 sec.\n",
      "samples = 40/250, time = 3.63 sec.\n",
      "samples = 50/250, time = 4.56 sec.\n",
      "samples = 60/250, time = 5.46 sec.\n",
      "samples = 70/250, time = 6.38 sec.\n",
      "samples = 80/250, time = 7.36 sec.\n",
      "samples = 90/250, time = 8.33 sec.\n",
      "samples = 100/250, time = 9.32 sec.\n",
      "samples = 110/250, time = 10.21 sec.\n",
      "samples = 120/250, time = 11.14 sec.\n",
      "samples = 130/250, time = 12.08 sec.\n",
      "samples = 140/250, time = 13.12 sec.\n",
      "samples = 150/250, time = 14.05 sec.\n",
      "samples = 160/250, time = 14.99 sec.\n",
      "samples = 170/250, time = 15.92 sec.\n",
      "samples = 180/250, time = 17.06 sec.\n",
      "samples = 190/250, time = 17.98 sec.\n",
      "samples = 200/250, time = 18.90 sec.\n",
      "samples = 210/250, time = 19.87 sec.\n",
      "samples = 220/250, time = 20.79 sec.\n",
      "samples = 230/250, time = 21.70 sec.\n",
      "samples = 240/250, time = 22.66 sec.\n",
      "samples = 250/250, time = 23.55 sec.\n"
     ]
    }
   ],
   "source": [
    "num_sequences = 250\n",
    "max_events_per_sequence = 100\n",
    "hawkes_process_samples = generate_samples(w, mu, A, num_sequences, max_events_per_sequence)"
   ]
  },
  {
   "cell_type": "code",
   "execution_count": 20,
   "metadata": {},
   "outputs": [
    {
     "name": "stdout",
     "output_type": "stream",
     "text": [
      "250\n",
      "100\n",
      "[[4.116737422086826, 631], [6.363598039648207, 222], [7.4935901518638515, 257], [10.651915241856132, 976], [12.314821479418132, 767], [13.242714664631265, 730], [13.409905825291153, 890], [13.451557972481586, 819], [13.870818163264648, 604], [14.176724221922798, 862], [14.581258646588216, 642], [14.861047736500574, 572], [15.118362249356515, 600], [15.464081498417222, 706], [15.482365108522258, 514], [15.836521714404958, 399], [15.938211270691907, 680], [16.009119005693144, 640], [16.17935399860373, 315], [16.231956877307187, 776], [16.26456926426052, 563], [16.65723134794148, 754], [16.730710005035107, 537], [17.471705112842645, 203], [17.874161414025565, 685], [18.38726360753607, 288], [18.90200081114345, 123], [18.960031482591027, 206], [19.33072941750521, 219], [19.500916925149912, 181], [19.933774961822518, 470], [19.96732524158788, 419], [20.07313759397205, 252], [20.188701916366977, 862], [20.341531917921362, 151], [20.39117803332626, 299], [20.4614471629782, 109], [20.94410814781391, 140], [21.00050111937561, 394], [21.138061427978503, 312], [21.843862542058627, 21], [21.931947400577073, 134], [22.4952299146308, 224], [22.54596032691463, 351], [22.617753629530924, 134], [22.670594554160992, 445], [22.819563848362826, 63], [22.856005050454012, 473], [23.24313251735512, 582], [23.524828716297627, 412], [23.83170779245297, 315], [23.93000145079765, 485], [23.964022763234077, 135], [24.04519099653918, 407], [24.58902685661963, 83], [24.650607859759344, 385], [24.909347428062745, 267], [25.420287913067682, 657], [25.58464827007096, 451], [26.110764253888412, 449], [26.28616791276206, 516], [26.377296148921115, 447], [26.552324080967693, 756], [26.554157803321488, 625], [26.903138844283742, 597], [27.045900919721355, 654], [27.086861369818386, 734], [27.142341434779233, 763], [27.50145209312302, 335], [27.69726535420282, 672], [27.702188399390323, 841], [27.893935439055323, 798], [28.22450258497299, 321], [28.288724191666173, 611], [28.359500662160137, 568], [28.53102918587516, 975], [28.676164464449613, 545], [28.794076125384496, 368], [29.005176600267596, 274], [29.21216551538912, 494], [29.388874838080074, 418], [29.469731020776347, 301], [29.74361362821894, 347], [30.049822037733637, 268], [30.40488534061099, 795], [30.43747820690422, 290], [30.586049361498247, 507], [30.63037995453737, 214], [30.733962766725057, 589], [30.75491457129206, 204], [30.852843643653884, 507], [31.116621548788203, 332], [31.338172952793858, 81], [31.401293495009117, 148], [31.67251396302217, 78], [31.678345919579456, 453], [31.813568914199926, 447], [31.98493777626179, 524], [31.99601328902628, 418], [32.4925875650118, 512]]\n"
     ]
    }
   ],
   "source": [
    "'''\n",
    "timestamp = 1x100 double\n",
    "event = 1x100 event            \n",
    "'''\n",
    "print (len(hawkes_process_samples))\n",
    "print (len(hawkes_process_samples[0]))\n",
    "print (hawkes_process_samples[0])"
   ]
  },
  {
   "cell_type": "code",
   "execution_count": null,
   "metadata": {},
   "outputs": [],
   "source": [
    "def kernel_g(dt, w):\n",
    "    g = np.multiply(w, math.exp(np.multiply(-w, dt)))\n",
    "    if (g > 1):\n",
    "        g = 0\n",
    "    return g"
   ]
  },
  {
   "cell_type": "code",
   "execution_count": null,
   "metadata": {},
   "outputs": [],
   "source": [
    "def kernel_int_g(dt, w):\n",
    "    G = np.subtract(1, math.exp(np.multiply(-w, dt)))\n",
    "    if (G < 0):\n",
    "        G = 0\n",
    "    return G"
   ]
  },
  {
   "cell_type": "code",
   "execution_count": null,
   "metadata": {},
   "outputs": [],
   "source": [
    "def real_err(A, A_m):\n",
    "    err_1 = np.divide(abs(A - A_m), A)\n",
    "    # Question: why we need err_2? (Incomplete)\n",
    "    err_2 = abs(A - A_m) \n",
    "    err_1\n",
    "    return err"
   ]
  },
  {
   "cell_type": "code",
   "execution_count": null,
   "metadata": {},
   "outputs": [],
   "source": [
    "def convert_inf(A, inf_A):\n",
    "    for i in range(0, len(inf_A)):\n",
    "        for j in range(0, len(inf_A[0])):\n",
    "            if(inf_A[i][j]):\n",
    "                A[i][j] = 0\n",
    "    return A"
   ]
  },
  {
   "cell_type": "code",
   "execution_count": null,
   "metadata": {},
   "outputs": [],
   "source": [
    "def optimize_mu(hp_samples, D, w, rho, num_iter_1, num_iter_2, thold, real_A):\n",
    "    A_m = np.random.rand(D,D);\n",
    "    eigenvalues_m, eigenvectors_m = LA.eig(A_m)\n",
    "    max_eigenvalue_m = max(np.absolute(eigenvalues_m))\n",
    "    A_m = np.dot(0.8, np.divide(A_m, max_eigenvalue_m))\n",
    "    \n",
    "    # reshape may required in mu_m\n",
    "    mu_m = np.divide(np.random.rand(D, 1), D)\n",
    "    UL = np.zeros((D, D))\n",
    "    ZL = np.zeros((D, D))\n",
    "    US = np.zeros((D, D))\n",
    "    ZS = np.zeros((D, D))\n",
    "    \n",
    "    for i in range(0, num_iter_1 + 1):\n",
    "        rho = rho * 1.1\n",
    "        for j in range(0, num_iter_2 + 1):\n",
    "            print (\"No. \" + str(i + 1) + \" outter while iteration | No. \" \n",
    "                   + str(j + 1) +  \" inner while iteration\")\n",
    "            A_m, mu_m, RelErr = update_mu(A_m, mu_m, hp_samples, UL, ZL, US, ZS, w, rho, D, real_A)\n",
    "            Iteration_Err[j + 1, i + 1] = RelErr\n",
    "        s, v, d = np.linalg.svd(np.add(A_m, US))\n",
    "        v = np.subtract(v, thold / rho)\n",
    "        if(v < 0):\n",
    "            v = 0\n",
    "        ZL = s * v * d.T\n",
    "        UL = UL + (A_m - ZL)\n",
    "        tmp = np.subtract(abs(np.add(A_m, US)), thold / rho) # may have error\n",
    "        if (temp < 0):\n",
    "            temp = 0\n",
    "        ZS = (np.multiply(np.sign(np.add(A_m, US)), tmp))\n",
    "        US = np.add(US, np.subtract(A_M, ZS))\n",
    "        \n",
    "    return A_m, mu_m, Iteration_Err"
   ]
  },
  {
   "cell_type": "code",
   "execution_count": null,
   "metadata": {},
   "outputs": [],
   "source": [
    "def update_mu (A_m, mu_m, hp_samples, UL, ZL, US, ZS, w, rho, D, real_A):\n",
    "    num_samples = length(hp_samples)\n",
    "    mu_numerator = np.zeros(D, 1)\n",
    "    \n",
    "    \n",
    "    C = np.zeros((len(A_m), len(A_m[0])))\n",
    "    A_Step = np.add(np.zeros((len(A_m), len(A_m[0]))), r * rho)\n",
    "    B = np.add(np.add(zeros((len(A_m), len(A_m[0]))), np.multiply(rho, np.subtract(UL, ZL))), \n",
    "               np.multiply(rho, np.subtract(US, ZS)))\n",
    "    \n",
    "    for s in range(0, num_samples):\n",
    "        cur_hp_samples = hp_samples[s]\n",
    "        timestamp = [i[0] for i in cur_hp_samples]\n",
    "        event = [i[1] for i in cur_hp_samples]\n",
    "        tc = timestamp[len(timestamp) - 1]\n",
    "        nc = len(event)\n",
    "        dt = np.subtract(tc, timestamp)\n",
    "        \n",
    "        for i in range(0, nc):\n",
    "            ui = event[i]\n",
    "            ti = timestamp[i]\n",
    "            int_g = kernel_int_g(dt, w)\n",
    "            \n",
    "            # Todo: modify matrix B (Incomplete)\n",
    "            \n",
    "            pii = []\n",
    "            pij = []\n",
    "            ag_arr = []\n",
    "            \n",
    "            if (i > 0):\n",
    "                tj = timestamp[0 : i]\n",
    "                uj = event[0 : i]\n",
    "                kn_g = kernel_g(ti - tj, w)\n",
    "                ag_arr = np.multiply(A_m[uj, ui], kn_g.T)\n",
    "                \n",
    "            pii = np.divide(mu_m[ui], mu_m[ui] + sum(ag_arr))\n",
    "            \n",
    "            if(i > 0):\n",
    "                pij = np.divide(ag_arr, mu_m[ui] + sum(ag_arr))\n",
    "                if (len(pij) != 0 && sum([sum(k) for k in pij]) > 0):\n",
    "                    for j in range(0, len(uj)):\n",
    "                        uuj = uj[j]\n",
    "                        C[uuj, ui] = C[uuj, ui] - pij[j, :] ## (Incomplete) Question: what we have at the end ??? value or vector ??\n",
    "            \n",
    "            mu_numerator[ui] = np.add(mu_numerator[ui], pii)\n",
    "            \n",
    "    mu = np.divide(mu_numerator, np.add(np.zeros((D, 1)), tc))\n",
    "    sqrt_eq = math.sqrt(np.subtract(matrix_power(B, 2), np.multiply(4, np.multiply(A_step, C))))\n",
    "    A  = np.divide(np.add(np.multiply(-1, B), sqrt_eq), np.multiply(2, A_Step))\n",
    "    RelErr = real_err(real_A, A)\n",
    "    \n",
    "    print (\"non-zero in mu = \" + np.count_nonzero(mu))\n",
    "    print (\"non-zero in C = \"  + np.count_nonzero(C))\n",
    "    print (\"non-zero in B = \"  + np.count_nonzero(B) + \", non-zero in sqrt = \" + np.count_nonzero(sqrt_eq))\n",
    "    print (\"real error = \" + \"{:.4f}\".format(RelErr) + \", correlation = \" + \"{:.4f}\".format()  # (Incomplete)\n",
    "           + \"#non-zero in A = \" + np.count_nonzero(A))\n",
    "            \n",
    "    A = np.nan_to_num(A)\n",
    "    A = convert_inf(A, np.isinf(A))\n",
    "    \n",
    "            \n",
    "            \n",
    "    return A, mu, RelErr"
   ]
  }
 ],
 "metadata": {
  "kernelspec": {
   "display_name": "Python 3",
   "language": "python",
   "name": "python3"
  },
  "language_info": {
   "codemirror_mode": {
    "name": "ipython",
    "version": 3
   },
   "file_extension": ".py",
   "mimetype": "text/x-python",
   "name": "python",
   "nbconvert_exporter": "python",
   "pygments_lexer": "ipython3",
   "version": "3.7.4"
  }
 },
 "nbformat": 4,
 "nbformat_minor": 2
}
