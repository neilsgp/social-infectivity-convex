{
 "cells": [
  {
   "cell_type": "code",
   "execution_count": 73,
   "metadata": {},
   "outputs": [],
   "source": [
    "import numpy as np\n",
    "from numpy import linalg as LA"
   ]
  },
  {
   "cell_type": "code",
   "execution_count": 74,
   "metadata": {},
   "outputs": [],
   "source": [
    "D = 1000\n",
    "U = np.zeros((D, 9))\n",
    "V = np.zeros((D, 9))"
   ]
  },
  {
   "cell_type": "code",
   "execution_count": 75,
   "metadata": {},
   "outputs": [],
   "source": [
    "for i in range(0, 9):\n",
    "    U[100*i:100*(i+2),i] = (np.random.rand(200,1)/10).reshape(200,);\n",
    "    V[100*i:100*(i+2),i] = (np.random.rand(200,1)/10).reshape(200,);"
   ]
  },
  {
   "cell_type": "code",
   "execution_count": 76,
   "metadata": {},
   "outputs": [],
   "source": [
    "A = np.matmul(U,V.transpose())\n",
    "eigenvalues = LA.eig(A)\n",
    "max_eigenvalue = max(eigenvalues[0])\n",
    "A = 0.8*A/max_eigenvalue"
   ]
  },
  {
   "cell_type": "code",
   "execution_count": 77,
   "metadata": {},
   "outputs": [],
   "source": [
    "mu = np.random.rand(D,1)/D\n",
    "w = 1"
   ]
  },
  {
   "cell_type": "code",
   "execution_count": 78,
   "metadata": {},
   "outputs": [],
   "source": [
    "import math\n",
    "def comp_lambda(cur_t, cur_event, last_t, lambdat,w,mu,A):\n",
    "    lambda_comp = mu + (lambdat - mu)*(math.exp(-w * (cur_t - last_t)))\n",
    "    if (cur_event):\n",
    "        lambda_comp = lambda_comp + np.expand_dims(A[cur_event, :].T,axis=1)\n",
    "    return lambda_comp"
   ]
  },
  {
   "cell_type": "code",
   "execution_count": 79,
   "metadata": {},
   "outputs": [],
   "source": [
    "import random \n",
    "\n",
    "def generate_samples(w, mu, A, num_sequences, max_events_per_sequence):\n",
    "    hp_samples = []\n",
    "\n",
    "    for i in range(1, num_sequences):\n",
    "        t = 0\n",
    "        timestamp_and_event = []\n",
    "        lambdat = mu\n",
    "        lambdat_sum = np.sum(lambdat)\n",
    "        \n",
    "        while len(timestamp_and_event) < max_events_per_sequence:\n",
    "#             print(len(timestamp_and_event), max_events_per_sequence)\n",
    "            rand_u = random.uniform(0, 1)\n",
    "            dt = np.random.exponential(1/lambdat_sum)            \n",
    "            lambda_ts = comp_lambda(t+dt, [], t, lambdat,w,mu,A);\n",
    "            lambdats_sum = np.sum(lambda_ts);\n",
    "            \n",
    "#             print(\"divide=\",lambdats_sum/lambdat_sum, lambdats_sum, lambdat_sum )\n",
    "            \n",
    "            if (rand_u > (lambdats_sum/lambdat_sum)):\n",
    "                t = t+dt\n",
    "                lambdat = lambda_ts\n",
    "\n",
    "            else:\n",
    "                u = random.uniform(0, 1) * lambdats_sum\n",
    "                lambda_sum = 0\n",
    "                \n",
    "                d = 0\n",
    "                for d in range(1, len(mu)):\n",
    "                    lambda_sum = lambda_sum + lambda_ts[d]\n",
    "#                     print(lambda_ts[d])\n",
    "                    if(lambda_sum >= u):\n",
    "                        break\n",
    "            \n",
    "                lambdat = comp_lambda(t+dt, d, t, lambdat, w, mu, A)\n",
    "                t = t+dt\n",
    "                timestamp_and_event.append([t,d])\n",
    "\n",
    "            lambdat_sum = np.sum(lambdat)\n",
    "        \n",
    "        hp_samples.append((timestamp_and_event[0], timestamp_and_event[1]))\n",
    "        \n",
    "#         print(i)\n",
    "        if (i%10 == 0):\n",
    "            print(\"samples = \" + str(i)+ \"/\" + str(num_sequences))\n",
    "    \n",
    "    return hp_samples"
   ]
  },
  {
   "cell_type": "code",
   "execution_count": 80,
   "metadata": {},
   "outputs": [
    {
     "name": "stderr",
     "output_type": "stream",
     "text": [
      "/usr/local/lib/python2.7/site-packages/ipykernel_launcher.py:15: ComplexWarning: Casting complex values to real discards the imaginary part\n",
      "  from ipykernel import kernelapp as app\n"
     ]
    },
    {
     "name": "stdout",
     "output_type": "stream",
     "text": [
      "samples = 10/250\n",
      "samples = 20/250\n",
      "samples = 30/250\n",
      "samples = 40/250\n",
      "samples = 50/250\n",
      "samples = 60/250\n",
      "samples = 70/250\n",
      "samples = 80/250\n",
      "samples = 90/250\n",
      "samples = 100/250\n",
      "samples = 110/250\n",
      "samples = 120/250\n",
      "samples = 130/250\n",
      "samples = 140/250\n",
      "samples = 150/250\n",
      "samples = 160/250\n",
      "samples = 170/250\n",
      "samples = 180/250\n",
      "samples = 190/250\n",
      "samples = 200/250\n",
      "samples = 210/250\n",
      "samples = 220/250\n",
      "samples = 230/250\n",
      "samples = 240/250\n"
     ]
    }
   ],
   "source": [
    "num_sequences = 250\n",
    "max_events_per_sequence = 100\n",
    "hawkes_process_samples = generate_samples(w, mu, A, num_sequences, max_events_per_sequence)"
   ]
  },
  {
   "cell_type": "code",
   "execution_count": 81,
   "metadata": {},
   "outputs": [
    {
     "name": "stdout",
     "output_type": "stream",
     "text": [
      "249\n"
     ]
    }
   ],
   "source": [
    "print(len(hawkes_process_samples))"
   ]
  },
  {
   "cell_type": "code",
   "execution_count": 82,
   "metadata": {},
   "outputs": [
    {
     "name": "stdout",
     "output_type": "stream",
     "text": [
      "([2.4552604642672478, 999], [6.842470190262937, 360])\n"
     ]
    }
   ],
   "source": [
    "print(hawkes_process_samples[0])"
   ]
  },
  {
   "cell_type": "code",
   "execution_count": 83,
   "metadata": {},
   "outputs": [
    {
     "name": "stdout",
     "output_type": "stream",
     "text": [
      "([0.8188818408707919, 237], [0.9432734697215608, 369])\n"
     ]
    }
   ],
   "source": [
    "print(hawkes_process_samples[1])"
   ]
  },
  {
   "cell_type": "code",
   "execution_count": 84,
   "metadata": {},
   "outputs": [
    {
     "name": "stdout",
     "output_type": "stream",
     "text": [
      "([2.7873250062727575, 461], [2.951846327088346, 473])\n"
     ]
    }
   ],
   "source": [
    "print(hawkes_process_samples[2])"
   ]
  },
  {
   "cell_type": "code",
   "execution_count": null,
   "metadata": {},
   "outputs": [],
   "source": []
  }
 ],
 "metadata": {
  "kernelspec": {
   "display_name": "Python 2",
   "language": "python",
   "name": "python2"
  },
  "language_info": {
   "codemirror_mode": {
    "name": "ipython",
    "version": 2
   },
   "file_extension": ".py",
   "mimetype": "text/x-python",
   "name": "python",
   "nbconvert_exporter": "python",
   "pygments_lexer": "ipython2",
   "version": "2.7.15"
  }
 },
 "nbformat": 4,
 "nbformat_minor": 2
}
