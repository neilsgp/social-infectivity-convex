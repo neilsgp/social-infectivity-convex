{
 "cells": [
  {
   "cell_type": "code",
   "execution_count": 136,
   "metadata": {},
   "outputs": [],
   "source": [
    "import numpy as np\n",
    "from numpy import linalg as LA\n",
    "from numpy import matlib\n",
    "from numpy.linalg import matrix_power\n",
    "from timeit import default_timer as timer"
   ]
  },
  {
   "cell_type": "code",
   "execution_count": 137,
   "metadata": {},
   "outputs": [],
   "source": [
    "D = 1000\n",
    "U = np.zeros((D, 9))\n",
    "V = np.zeros((D, 9))"
   ]
  },
  {
   "cell_type": "code",
   "execution_count": 138,
   "metadata": {},
   "outputs": [],
   "source": [
    "for i in range(0, 9):\n",
    "    U[100*i:100*(i+2),i] = (np.random.rand(200,1)/10).reshape(200,);\n",
    "    V[100*i:100*(i+2),i] = (np.random.rand(200,1)/10).reshape(200,);"
   ]
  },
  {
   "cell_type": "code",
   "execution_count": 139,
   "metadata": {},
   "outputs": [],
   "source": [
    "A = np.matmul(U,V.transpose())\n",
    "eigenvalues, eigenvectors = LA.eig(A)\n",
    "max_eigenvalue = max(np.absolute(eigenvalues))\n",
    "A = np.dot(0.8, np.divide(A, max_eigenvalue))"
   ]
  },
  {
   "cell_type": "code",
   "execution_count": 140,
   "metadata": {},
   "outputs": [],
   "source": [
    "mu = np.random.rand(D,1)/D\n",
    "w = 1"
   ]
  },
  {
   "cell_type": "code",
   "execution_count": 141,
   "metadata": {},
   "outputs": [],
   "source": [
    "import math\n",
    "def comp_lambda(cur_t, cur_event, last_t, lambdat,w,mu,A):\n",
    "    lambda_comp = mu + (lambdat - mu)*(math.exp(-w * (cur_t - last_t)))\n",
    "    if (cur_event):\n",
    "        lambda_comp = lambda_comp + np.expand_dims(A[cur_event, :].T,axis=1)\n",
    "    return lambda_comp"
   ]
  },
  {
   "cell_type": "code",
   "execution_count": 142,
   "metadata": {},
   "outputs": [],
   "source": [
    "import random \n",
    "\n",
    "def generate_samples(w, mu, A, num_sequences, max_events_per_sequence):\n",
    "    start_time = timer()\n",
    "    hp_samples = []\n",
    "\n",
    "    for i in range(1, num_sequences+1):\n",
    "        t = 0\n",
    "        timestamp_and_event = []\n",
    "        lambdat = mu\n",
    "        lambdat_sum = np.sum(lambdat)\n",
    "        \n",
    "        while len(timestamp_and_event) < max_events_per_sequence:\n",
    "            rand_u = random.uniform(0, 1)\n",
    "            dt = np.random.exponential(1/lambdat_sum)            \n",
    "            lambda_ts = comp_lambda(t+dt, [], t, lambdat,w,mu,A);\n",
    "            lambdats_sum = np.sum(lambda_ts);\n",
    "                        \n",
    "            if (rand_u > (lambdats_sum/lambdat_sum)):\n",
    "                t = t+dt\n",
    "                lambdat = lambda_ts\n",
    "\n",
    "            else:\n",
    "                u = random.uniform(0, 1) * lambdats_sum\n",
    "                lambda_sum = 0\n",
    "                \n",
    "                d = 0\n",
    "                for d in range(1, len(mu)):\n",
    "                    lambda_sum = lambda_sum + lambda_ts[d]\n",
    "                    if(lambda_sum >= u):\n",
    "                        break\n",
    "            \n",
    "                lambdat = comp_lambda(t+dt, d, t, lambdat, w, mu, A)\n",
    "                t = t+dt\n",
    "                timestamp_and_event.append([t,d])\n",
    "\n",
    "            lambdat_sum = np.sum(lambdat)\n",
    "        \n",
    "        hp_samples.append(timestamp_and_event[0:])\n",
    "        \n",
    "        if (i%10 == 0):\n",
    "            print(\"samples = \" + str(i)+ \"/\" + str(num_sequences) + \", time = \" \n",
    "                  + \"{:.2f}\".format(timer() - start_time) + \" sec.\")\n",
    "    \n",
    "    return hp_samples"
   ]
  },
  {
   "cell_type": "code",
   "execution_count": 143,
   "metadata": {},
   "outputs": [
    {
     "name": "stdout",
     "output_type": "stream",
     "text": [
      "samples = 10/250, time = 1.16 sec.\n",
      "samples = 20/250, time = 2.31 sec.\n",
      "samples = 30/250, time = 3.57 sec.\n",
      "samples = 40/250, time = 4.78 sec.\n",
      "samples = 50/250, time = 6.01 sec.\n",
      "samples = 60/250, time = 7.24 sec.\n",
      "samples = 70/250, time = 8.50 sec.\n",
      "samples = 80/250, time = 9.78 sec.\n",
      "samples = 90/250, time = 11.08 sec.\n",
      "samples = 100/250, time = 12.41 sec.\n",
      "samples = 110/250, time = 13.65 sec.\n",
      "samples = 120/250, time = 15.09 sec.\n",
      "samples = 130/250, time = 16.51 sec.\n",
      "samples = 140/250, time = 17.88 sec.\n",
      "samples = 150/250, time = 19.32 sec.\n",
      "samples = 160/250, time = 20.64 sec.\n",
      "samples = 170/250, time = 22.09 sec.\n",
      "samples = 180/250, time = 23.29 sec.\n",
      "samples = 190/250, time = 24.57 sec.\n",
      "samples = 200/250, time = 25.88 sec.\n",
      "samples = 210/250, time = 27.11 sec.\n",
      "samples = 220/250, time = 28.43 sec.\n",
      "samples = 230/250, time = 29.89 sec.\n",
      "samples = 240/250, time = 31.21 sec.\n",
      "samples = 250/250, time = 32.31 sec.\n"
     ]
    }
   ],
   "source": [
    "num_sequences = 250\n",
    "max_events_per_sequence = 100\n",
    "hawkes_process_samples = generate_samples(w, mu, A, num_sequences, max_events_per_sequence)"
   ]
  },
  {
   "cell_type": "code",
   "execution_count": 144,
   "metadata": {},
   "outputs": [
    {
     "name": "stdout",
     "output_type": "stream",
     "text": [
      "250\n",
      "100\n",
      "[[0.2774139477706948, 679], [1.320759198959638, 63], [1.3321611117267054, 614], [3.021332829628583, 689], [3.1589892836052105, 124], [7.351345813456013, 746], [8.480493041541097, 742], [8.803321622277723, 792], [9.373998763964295, 794], [9.386754273797214, 889], [9.410002617354484, 823], [9.487184734431798, 838], [9.496336088959353, 772], [9.524383962939327, 838], [9.906103194605462, 998], [9.997187158562765, 834], [10.025184958823083, 867], [10.4675580801814, 893], [10.56270890838354, 919], [10.794444186543572, 362], [11.111819177182008, 799], [11.255526306357002, 252], [11.347184362284304, 271], [11.375825608249354, 693], [11.635647478544056, 209], [11.637976973373904, 321], [12.13778176394819, 235], [12.194799623055424, 200], [12.46386361375082, 807], [12.866668132099244, 264], [13.672386256312024, 233], [14.506144607143732, 464], [14.916553888945845, 736], [14.939615682650217, 666], [14.964419715138197, 546], [15.102144114646327, 608], [15.723522687900932, 645], [17.717179717268987, 569], [17.725848127190787, 522], [22.872916815650097, 541], [24.132369486057193, 832], [29.86220754525064, 874], [31.23209613481955, 966], [32.44136951016177, 346], [32.507802190948425, 597], [33.10540224975151, 461], [33.170470786354294, 88], [33.43868245729102, 180], [34.42305631398659, 68], [34.52925272275545, 779], [34.82971033533286, 815], [36.38780497317743, 137], [36.54100928442589, 173], [36.61923910679071, 76], [36.95036590902217, 973], [37.0057780314684, 219], [37.40188873794711, 46], [37.56442148239341, 60], [37.564779013042894, 613], [39.174259291339304, 111], [39.17520574098131, 297], [40.23868403020801, 282], [40.30025652253119, 183], [40.66296810939659, 395], [40.73644400385229, 318], [41.24754649928929, 65], [41.27058832342124, 268], [41.3708428207376, 198], [41.60695987085455, 142], [41.68229371972107, 342], [41.81835935448432, 189], [41.884188926910625, 363], [41.88774148422698, 566], [41.89220336147195, 341], [42.06827364684774, 440], [42.11016565481646, 180], [42.14042027101877, 120], [42.2059625732303, 483], [42.305521572811045, 168], [42.3306511794919, 368], [42.38450065230253, 291], [42.51792101186691, 186], [42.642577073259915, 149], [42.70763704477541, 124], [42.912146555710386, 41], [43.008431169027816, 309], [43.041634813757575, 154], [43.34677232998607, 461], [43.70199421958384, 290], [44.187743770533004, 351], [44.353961025102414, 469], [44.50641426126325, 978], [44.69835879131491, 847], [44.91370723839697, 48], [44.953226828702384, 864], [45.25665321041624, 419], [45.31919777597614, 359], [45.526220339864516, 485], [45.602849071922044, 509], [45.64281268424425, 421]]\n"
     ]
    }
   ],
   "source": [
    "'''\n",
    "timestamp = 1x100 double\n",
    "event = 1x100 event            \n",
    "'''\n",
    "print (len(hawkes_process_samples))\n",
    "print (len(hawkes_process_samples[0]))\n",
    "print (hawkes_process_samples[0])"
   ]
  },
  {
   "cell_type": "code",
   "execution_count": 145,
   "metadata": {},
   "outputs": [],
   "source": [
    "def kernel_g(dt, w):\n",
    "    g = np.multiply(w, np.exp(np.multiply(-w, dt)))\n",
    "    g[g > 1] = 0\n",
    "    return g"
   ]
  },
  {
   "cell_type": "code",
   "execution_count": 146,
   "metadata": {},
   "outputs": [],
   "source": [
    "def kernel_int_g(dt, w):\n",
    "    G = np.subtract(1, np.exp(np.multiply(-w, dt)))\n",
    "    G[G<0] = 0\n",
    "    return G"
   ]
  },
  {
   "cell_type": "code",
   "execution_count": 167,
   "metadata": {},
   "outputs": [],
   "source": [
    "def real_err(A, A_m):\n",
    "    err_1 = np.divide(abs(A - A_m), A)\n",
    "    err_2 = abs(A - A_m) \n",
    "    \n",
    "    err_1 = np.nan_to_num(err_1)\n",
    "    err_1 = convert_inf(err_1, np.isinf(err_1))\n",
    "    \n",
    "    err = np.multiply(err_1, ((A!=0)*1).astype(float)) + np.multiply(err_2, ((A==0)*1).astype(float))\n",
    "    err = np.sum(err.flatten())/float(A.size)\n",
    "    \n",
    "    return err"
   ]
  },
  {
   "cell_type": "code",
   "execution_count": 160,
   "metadata": {},
   "outputs": [],
   "source": [
    "def convert_inf(A, inf_A):\n",
    "    for i in range(0, len(inf_A)):\n",
    "        for j in range(0, len(inf_A[0])):\n",
    "            if(inf_A[i][j]):\n",
    "                A[i][j] = 0\n",
    "    return A"
   ]
  },
  {
   "cell_type": "code",
   "execution_count": 188,
   "metadata": {},
   "outputs": [],
   "source": [
    "def optimize_mu(hp_samples, D, w, rho, num_iter_1, num_iter_2, thold, real_A):\n",
    "    A_m = np.random.rand(D,D);\n",
    "    eigenvalues_m, eigenvectors_m = LA.eig(A_m)\n",
    "    max_eigenvalue_m = max(np.absolute(eigenvalues_m))\n",
    "    A_m = np.dot(0.8, np.divide(A_m, max_eigenvalue_m))\n",
    "    Iteration_Err = np.zeros((num_iter_2 + 2, num_iter_1 + 2))\n",
    "    \n",
    "    \n",
    "    # reshape may required in mu_m\n",
    "    mu_m = np.divide(np.random.rand(D, 1), D)\n",
    "    UL = np.zeros((D, D))\n",
    "    ZL = np.zeros((D, D))\n",
    "    US = np.zeros((D, D))\n",
    "    ZS = np.zeros((D, D))\n",
    "    \n",
    "    for i in range(0, num_iter_1 + 1):\n",
    "        rho = rho * 1.1\n",
    "        \n",
    "        for j in range(0, num_iter_2 + 1):\n",
    "            print (\"No. \" + str(i + 1) + \" outter while iteration | No. \" \n",
    "                   + str(j + 1) +  \" inner while iteration\")\n",
    "            A_m, mu_m, RelErr = update_mu(A_m, mu_m, hp_samples, UL, ZL, US, ZS, w, rho, D, real_A)\n",
    "            Iteration_Err[j + 1, i + 1] = RelErr\n",
    "        \n",
    "        s, v, d = np.linalg.svd(np.add(A_m, US))\n",
    "        v = np.subtract(v, thold / rho)\n",
    "        v[v < 0] = 0\n",
    "        ZL = s * v * d.T\n",
    "        UL = UL + np.subtract(A_m, ZL) #changed A_m-ZL to np.subtract\n",
    "        \n",
    "        #idk looks good to me lol\n",
    "        tmp = np.subtract(abs(np.add(A_m, US)), thold / rho) # may have error \n",
    "        \n",
    "        tmp[tmp < 0] = 0\n",
    "        ZS = (np.multiply(np.sign(np.add(A_m, US)), tmp))\n",
    "        US = np.add(US, np.subtract(A_m, ZS))\n",
    "        \n",
    "    return A_m, mu_m, Iteration_Err"
   ]
  },
  {
   "cell_type": "code",
   "execution_count": 189,
   "metadata": {},
   "outputs": [],
   "source": [
    "def update_mu (A_m, mu_m, hp_samples, UL, ZL, US, ZS, w, rho, D, real_A):\n",
    "    num_samples = len(hp_samples)\n",
    "    mu_numerator = np.zeros((D, 1))\n",
    "    \n",
    "    C = np.zeros((len(A_m), len(A_m[0])))\n",
    "    A_Step = np.add(np.zeros((len(A_m), len(A_m[0]))), 2 * rho)\n",
    "    B = np.add(np.add(np.zeros((len(A_m), len(A_m[0]))), np.multiply(rho, np.subtract(UL, ZL))), \n",
    "               np.multiply(rho, np.subtract(US, ZS)))\n",
    "    \n",
    "    for s in range(0, num_samples):\n",
    "        cur_hp_samples = hp_samples[s]\n",
    "        timestamp = [i[0] for i in cur_hp_samples]\n",
    "        event = [i[1] for i in cur_hp_samples]\n",
    "        tc = timestamp[len(timestamp) - 1]\n",
    "        nc = len(event)\n",
    "        dt = np.subtract(tc, timestamp)\n",
    "        \n",
    "        for i in range(0, nc):\n",
    "            ui = event[i]\n",
    "            ti = timestamp[i]\n",
    "            int_g = kernel_int_g(dt, w)\n",
    "            \n",
    "            # Todo: modify matrix B (Incomplete)\n",
    "            # B(ui,:) = B(ui,:) + double(A_m(ui,:)>0).*repmat(int_g(i),[1,D]);            \n",
    "            B[ui,:] = B[ui,:] + np.multiply((A_m[ui,:]>0).astype(float), np.matlib.repmat(int_g[i], 1, D))\n",
    "            \n",
    "            pii = []\n",
    "            pij = []\n",
    "            ag_arr = []\n",
    "            \n",
    "            if (i > 0):\n",
    "                tj = timestamp[0 : i]\n",
    "                uj = event[0 : i]\n",
    "                kn_g = kernel_g(np.subtract(ti, tj), w)\n",
    "                ag_arr = np.multiply(A_m[uj, ui], kn_g.T)\n",
    "                \n",
    "            pii = np.divide(mu_m[ui], mu_m[ui] + sum(ag_arr))\n",
    "            \n",
    "            if(i > 0):\n",
    "                pij = np.divide(ag_arr, mu_m[ui] + sum(ag_arr))\n",
    "                if (len(pij) != 0 and sum(pij) > 0):\n",
    "                    for j in range(0, len(uj)):\n",
    "                        uuj = uj[j]                        \n",
    "                        C[uuj, ui] = C[uuj, ui] - pij[j] ## (Incomplete) Question: what we have at the end ??? value or vector ??\n",
    "            \n",
    "            mu_numerator[ui] = np.add(mu_numerator[ui], pii)\n",
    "            \n",
    "    mu = np.divide(mu_numerator, np.add(np.zeros((D, 1)), tc))\n",
    "    sqrt_eq = np.sqrt(np.subtract(matrix_power(B, 2), np.multiply(4, np.multiply(A_Step, C))))\n",
    "    A  = np.divide(np.add(np.multiply(-1, B), sqrt_eq), np.multiply(2, A_Step))\n",
    "    RelErr = real_err(real_A, A)\n",
    "    \n",
    "    print (\"non-zero in mu = \" + str(np.count_nonzero(mu)))\n",
    "    print (\"non-zero in C = \"  + str(np.count_nonzero(C)))\n",
    "    print (\"non-zero in B = \"  + str(np.count_nonzero(B)) + \", non-zero in sqrt = \" + str(np.count_nonzero(sqrt_eq)))\n",
    "    print (\"real error = \" + \"{:.4f}\".format(RelErr) \n",
    "#            + \", correlation = \" + \"{:.4f}\".format()  # (Incomplete)\n",
    "           + \"#non-zero in A = \" + str(np.count_nonzero(A)))\n",
    "            \n",
    "    A = np.nan_to_num(A)\n",
    "    A = convert_inf(A, np.isinf(A))\n",
    "    \n",
    "    return A, mu, RelErr"
   ]
  },
  {
   "cell_type": "code",
   "execution_count": 190,
   "metadata": {},
   "outputs": [],
   "source": [
    "#start optimization\n",
    "num_iter_1 = 2;    # Number of Iteration of the First while loop (while k = 1,2 ...)\n",
    "num_iter_2 = 7;    # Number of Iteration of the Second while loop (while not converge)\n",
    "\n",
    "rho = 0.09;\n",
    "thold = 1;         # thershold value"
   ]
  },
  {
   "cell_type": "code",
   "execution_count": 191,
   "metadata": {},
   "outputs": [
    {
     "name": "stdout",
     "output_type": "stream",
     "text": [
      "No. 1 outter while iteration | No. 1 inner while iteration\n"
     ]
    },
    {
     "name": "stderr",
     "output_type": "stream",
     "text": [
      "/usr/local/lib/python2.7/site-packages/ipykernel_launcher.py:2: RuntimeWarning: divide by zero encountered in divide\n",
      "  \n",
      "/usr/local/lib/python2.7/site-packages/ipykernel_launcher.py:2: RuntimeWarning: invalid value encountered in divide\n",
      "  \n"
     ]
    },
    {
     "name": "stdout",
     "output_type": "stream",
     "text": [
      "non-zero in mu = 999\n",
      "non-zero in C = 605265\n",
      "non-zero in B = 999000, non-zero in sqrt = 999000\n",
      "real error = 2224459.1543#non-zero in A = 999000\n",
      "No. 1 outter while iteration | No. 2 inner while iteration\n",
      "non-zero in mu = 999\n",
      "non-zero in C = 605265\n",
      "non-zero in B = 999000, non-zero in sqrt = 999000\n",
      "real error = 2224459.1602#non-zero in A = 999000\n",
      "No. 1 outter while iteration | No. 3 inner while iteration\n",
      "non-zero in mu = 999\n",
      "non-zero in C = 605265\n",
      "non-zero in B = 999000, non-zero in sqrt = 999000\n",
      "real error = 2224459.1603#non-zero in A = 999000\n",
      "No. 1 outter while iteration | No. 4 inner while iteration\n",
      "non-zero in mu = 999\n",
      "non-zero in C = 605265\n",
      "non-zero in B = 999000, non-zero in sqrt = 999000\n",
      "real error = 2224459.1603#non-zero in A = 999000\n",
      "No. 1 outter while iteration | No. 5 inner while iteration\n",
      "non-zero in mu = 999\n",
      "non-zero in C = 605265\n",
      "non-zero in B = 999000, non-zero in sqrt = 999000\n",
      "real error = 2224459.1603#non-zero in A = 999000\n",
      "No. 1 outter while iteration | No. 6 inner while iteration\n",
      "non-zero in mu = 999\n",
      "non-zero in C = 605265\n",
      "non-zero in B = 999000, non-zero in sqrt = 999000\n",
      "real error = 2224459.1603#non-zero in A = 999000\n",
      "No. 1 outter while iteration | No. 7 inner while iteration\n",
      "non-zero in mu = 999\n",
      "non-zero in C = 605265\n",
      "non-zero in B = 999000, non-zero in sqrt = 999000\n",
      "real error = 2224459.1603#non-zero in A = 999000\n",
      "No. 1 outter while iteration | No. 8 inner while iteration\n",
      "non-zero in mu = 999\n",
      "non-zero in C = 605265\n",
      "non-zero in B = 999000, non-zero in sqrt = 999000\n",
      "real error = 2224459.1603#non-zero in A = 999000\n",
      "No. 2 outter while iteration | No. 1 inner while iteration\n"
     ]
    },
    {
     "name": "stderr",
     "output_type": "stream",
     "text": [
      "/usr/local/lib/python2.7/site-packages/ipykernel_launcher.py:49: RuntimeWarning: invalid value encountered in sqrt\n"
     ]
    },
    {
     "name": "stdout",
     "output_type": "stream",
     "text": [
      "non-zero in mu = 999\n",
      "non-zero in C = 605265\n",
      "non-zero in B = 999001, non-zero in sqrt = 999001\n",
      "real error = nan#non-zero in A = 999000\n",
      "No. 2 outter while iteration | No. 2 inner while iteration\n",
      "non-zero in mu = 999\n",
      "non-zero in C = 605265\n",
      "non-zero in B = 999001, non-zero in sqrt = 999001\n",
      "real error = nan#non-zero in A = 999000\n",
      "No. 2 outter while iteration | No. 3 inner while iteration\n",
      "non-zero in mu = 999\n",
      "non-zero in C = 605265\n",
      "non-zero in B = 999001, non-zero in sqrt = 999001\n",
      "real error = nan#non-zero in A = 999000\n",
      "No. 2 outter while iteration | No. 4 inner while iteration\n",
      "non-zero in mu = 999\n",
      "non-zero in C = 605265\n",
      "non-zero in B = 999001, non-zero in sqrt = 999001\n",
      "real error = nan#non-zero in A = 999000\n",
      "No. 2 outter while iteration | No. 5 inner while iteration\n",
      "non-zero in mu = 999\n",
      "non-zero in C = 605265\n",
      "non-zero in B = 999001, non-zero in sqrt = 999001\n",
      "real error = nan#non-zero in A = 999000\n",
      "No. 2 outter while iteration | No. 6 inner while iteration\n",
      "non-zero in mu = 999\n",
      "non-zero in C = 605265\n",
      "non-zero in B = 999001, non-zero in sqrt = 999001\n",
      "real error = nan#non-zero in A = 999000\n",
      "No. 2 outter while iteration | No. 7 inner while iteration\n",
      "non-zero in mu = 999\n",
      "non-zero in C = 605265\n",
      "non-zero in B = 999001, non-zero in sqrt = 999001\n",
      "real error = nan#non-zero in A = 999000\n",
      "No. 2 outter while iteration | No. 8 inner while iteration\n",
      "non-zero in mu = 999\n",
      "non-zero in C = 605265\n",
      "non-zero in B = 999001, non-zero in sqrt = 999001\n",
      "real error = nan#non-zero in A = 999000\n",
      "No. 3 outter while iteration | No. 1 inner while iteration\n",
      "non-zero in mu = 999\n",
      "non-zero in C = 605265\n",
      "non-zero in B = 999002, non-zero in sqrt = 1000000\n",
      "real error = nan#non-zero in A = 1000000\n",
      "No. 3 outter while iteration | No. 2 inner while iteration\n",
      "non-zero in mu = 999\n",
      "non-zero in C = 605265\n",
      "non-zero in B = 999002, non-zero in sqrt = 1000000\n",
      "real error = nan#non-zero in A = 1000000\n",
      "No. 3 outter while iteration | No. 3 inner while iteration\n",
      "non-zero in mu = 999\n",
      "non-zero in C = 605265\n",
      "non-zero in B = 999002, non-zero in sqrt = 1000000\n",
      "real error = nan#non-zero in A = 1000000\n",
      "No. 3 outter while iteration | No. 4 inner while iteration\n",
      "non-zero in mu = 999\n",
      "non-zero in C = 605265\n",
      "non-zero in B = 999002, non-zero in sqrt = 1000000\n",
      "real error = nan#non-zero in A = 1000000\n",
      "No. 3 outter while iteration | No. 5 inner while iteration\n",
      "non-zero in mu = 999\n",
      "non-zero in C = 605265\n",
      "non-zero in B = 999002, non-zero in sqrt = 1000000\n",
      "real error = nan#non-zero in A = 1000000\n",
      "No. 3 outter while iteration | No. 6 inner while iteration\n",
      "non-zero in mu = 999\n",
      "non-zero in C = 605265\n",
      "non-zero in B = 999002, non-zero in sqrt = 1000000\n",
      "real error = nan#non-zero in A = 1000000\n",
      "No. 3 outter while iteration | No. 7 inner while iteration\n",
      "non-zero in mu = 999\n",
      "non-zero in C = 605265\n",
      "non-zero in B = 999002, non-zero in sqrt = 1000000\n",
      "real error = nan#non-zero in A = 1000000\n",
      "No. 3 outter while iteration | No. 8 inner while iteration\n",
      "non-zero in mu = 999\n",
      "non-zero in C = 605265\n",
      "non-zero in B = 999002, non-zero in sqrt = 1000000\n",
      "real error = nan#non-zero in A = 1000000\n"
     ]
    }
   ],
   "source": [
    "[x,y,Iteration_Err] = optimize_mu(hawkes_process_samples,D,w,rho,num_iter_1,num_iter_2,thold,A);"
   ]
  },
  {
   "cell_type": "code",
   "execution_count": null,
   "metadata": {},
   "outputs": [],
   "source": []
  }
 ],
 "metadata": {
  "kernelspec": {
   "display_name": "Python 2",
   "language": "python",
   "name": "python2"
  },
  "language_info": {
   "codemirror_mode": {
    "name": "ipython",
    "version": 2
   },
   "file_extension": ".py",
   "mimetype": "text/x-python",
   "name": "python",
   "nbconvert_exporter": "python",
   "pygments_lexer": "ipython2",
   "version": "2.7.15"
  }
 },
 "nbformat": 4,
 "nbformat_minor": 2
}
